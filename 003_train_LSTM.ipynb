{
 "cells": [
  {
   "cell_type": "code",
   "execution_count": 56,
   "metadata": {},
   "outputs": [],
   "source": [
    "import pandas as pd\n",
    "import numpy as np"
   ]
  },
  {
   "cell_type": "markdown",
   "metadata": {},
   "source": [
    "# Modelo Recurrentes con Embeddings a nivel de caracter"
   ]
  },
  {
   "cell_type": "code",
   "execution_count": 57,
   "metadata": {},
   "outputs": [],
   "source": [
    "df = pd.read_csv('data/acetylcholinesterase_02_bioactivity_data_preprocessed.csv')"
   ]
  },
  {
   "cell_type": "code",
   "execution_count": 58,
   "metadata": {},
   "outputs": [
    {
     "data": {
      "text/html": [
       "<div>\n",
       "<style scoped>\n",
       "    .dataframe tbody tr th:only-of-type {\n",
       "        vertical-align: middle;\n",
       "    }\n",
       "\n",
       "    .dataframe tbody tr th {\n",
       "        vertical-align: top;\n",
       "    }\n",
       "\n",
       "    .dataframe thead th {\n",
       "        text-align: right;\n",
       "    }\n",
       "</style>\n",
       "<table border=\"1\" class=\"dataframe\">\n",
       "  <thead>\n",
       "    <tr style=\"text-align: right;\">\n",
       "      <th></th>\n",
       "      <th>molecule_chembl_id</th>\n",
       "      <th>canonical_smiles</th>\n",
       "      <th>standard_value</th>\n",
       "      <th>standard_value_norm</th>\n",
       "      <th>pIC50</th>\n",
       "    </tr>\n",
       "  </thead>\n",
       "  <tbody>\n",
       "    <tr>\n",
       "      <th>0</th>\n",
       "      <td>CHEMBL133897</td>\n",
       "      <td>CCOc1nn(-c2cccc(OCc3ccccc3)c2)c(=O)o1</td>\n",
       "      <td>750.0</td>\n",
       "      <td>750.0</td>\n",
       "      <td>6.124939</td>\n",
       "    </tr>\n",
       "    <tr>\n",
       "      <th>1</th>\n",
       "      <td>CHEMBL336398</td>\n",
       "      <td>O=C(N1CCCCC1)n1nc(-c2ccc(Cl)cc2)nc1SCC1CC1</td>\n",
       "      <td>100.0</td>\n",
       "      <td>100.0</td>\n",
       "      <td>7.000000</td>\n",
       "    </tr>\n",
       "    <tr>\n",
       "      <th>2</th>\n",
       "      <td>CHEMBL131588</td>\n",
       "      <td>CN(C(=O)n1nc(-c2ccc(Cl)cc2)nc1SCC(F)(F)F)c1ccccc1</td>\n",
       "      <td>50000.0</td>\n",
       "      <td>50000.0</td>\n",
       "      <td>4.301030</td>\n",
       "    </tr>\n",
       "    <tr>\n",
       "      <th>3</th>\n",
       "      <td>CHEMBL130628</td>\n",
       "      <td>O=C(N1CCCCC1)n1nc(-c2ccc(Cl)cc2)nc1SCC(F)(F)F</td>\n",
       "      <td>300.0</td>\n",
       "      <td>300.0</td>\n",
       "      <td>6.522879</td>\n",
       "    </tr>\n",
       "    <tr>\n",
       "      <th>4</th>\n",
       "      <td>CHEMBL130478</td>\n",
       "      <td>CSc1nc(-c2ccc(OC(F)(F)F)cc2)nn1C(=O)N(C)C</td>\n",
       "      <td>800.0</td>\n",
       "      <td>800.0</td>\n",
       "      <td>6.096910</td>\n",
       "    </tr>\n",
       "  </tbody>\n",
       "</table>\n",
       "</div>"
      ],
      "text/plain": [
       "  molecule_chembl_id                                   canonical_smiles  \\\n",
       "0       CHEMBL133897              CCOc1nn(-c2cccc(OCc3ccccc3)c2)c(=O)o1   \n",
       "1       CHEMBL336398         O=C(N1CCCCC1)n1nc(-c2ccc(Cl)cc2)nc1SCC1CC1   \n",
       "2       CHEMBL131588  CN(C(=O)n1nc(-c2ccc(Cl)cc2)nc1SCC(F)(F)F)c1ccccc1   \n",
       "3       CHEMBL130628      O=C(N1CCCCC1)n1nc(-c2ccc(Cl)cc2)nc1SCC(F)(F)F   \n",
       "4       CHEMBL130478          CSc1nc(-c2ccc(OC(F)(F)F)cc2)nn1C(=O)N(C)C   \n",
       "\n",
       "   standard_value  standard_value_norm     pIC50  \n",
       "0           750.0                750.0  6.124939  \n",
       "1           100.0                100.0  7.000000  \n",
       "2         50000.0              50000.0  4.301030  \n",
       "3           300.0                300.0  6.522879  \n",
       "4           800.0                800.0  6.096910  "
      ]
     },
     "execution_count": 58,
     "metadata": {},
     "output_type": "execute_result"
    }
   ],
   "source": [
    "df.head()"
   ]
  },
  {
   "cell_type": "markdown",
   "metadata": {},
   "source": [
    "# Canonical_smiles To secuence"
   ]
  },
  {
   "cell_type": "code",
   "execution_count": 59,
   "metadata": {},
   "outputs": [],
   "source": [
    "from tensorflow.keras.preprocessing.text import Tokenizer\n",
    "from tensorflow.keras.preprocessing.sequence import pad_sequences"
   ]
  },
  {
   "cell_type": "markdown",
   "metadata": {},
   "source": [
    "Utilizando Tokenizer y pad_sequences de keras a nivel de caracter, obtener la entrada tokenizada. Por ejemplo:\n",
    "\n",
    "**El smiles**:\n",
    "\n",
    "'C[C@@]12CC[C@H]3[C@]4(C)CCC[C@@]5(C)C(=O)OCC[N+](C)(C)CCCCCCCCC[N+](C)(C)CCOC(=O)[C@]6(C)CCC[C@]7(C)[C@@H]6CC[C@@]68C[C@@H](OC(=O)CCCCCCCCC(=O)O[C@@H]1C[C@@]3(CC[C@@H]45)C2)[C@@](C)(CC[C@@H]76)C8.[Br-].[Br-]'\n",
    "\n",
    "**Tendría que quedar algo asi (puede que no sea exacto):**\n",
    "\n",
    "array([ 2, 11,  2, 13, 13, 12,  5,  7,  2,  2, 11,  2, 13, 16, 12, 10, 11,\n",
    "        2, 13, 12, 15,  3,  2,  4,  2,  2,  2, 11,  2, 13, 13, 12, 23,  3,\n",
    "        2,  4,  2,  3,  9,  6,  4,  6,  2,  2, 11,  8, 21, 12,  3,  2,  4,\n",
    "        3,  2,  4,  2,  2,  2,  2,  2,  2,  2,  2,  2, 11,  8, 21, 12,  3,\n",
    "        2,  4,  3,  2,  4,  2,  2,  6,  2,  3,  9,  6,  4, 11,  2, 13, 12,\n",
    "       30,  3,  2,  4,  2,  2,  2, 11,  2, 13, 12, 35,  3,  2,  4, 11,  2,\n",
    "       13, 13, 16, 12, 30,  2,  2, 11,  2, 13, 13, 12, 30, 36,  2, 11,  2,\n",
    "       13, 13, 16, 12,  3,  6,  2,  3,  9,  6,  4,  2,  2,  2,  2,  2,  2,\n",
    "        2,  2,  2,  3,  9,  6,  4,  6, 11,  2, 13, 13, 16, 12,  5,  2, 11,\n",
    "        2, 13, 13, 12, 10,  3,  2,  2, 11,  2, 13, 13, 16, 12, 15, 23,  4,\n",
    "        2,  7,  4, 11,  2, 13, 13, 12,  3,  2,  4,  3,  2,  2, 11,  2, 13,\n",
    "       13, 16, 12, 35, 30,  4,  2, 36, 20, 11, 25, 26, 17, 12, 20, 11, 25,\n",
    "       26, 17, 12], dtype=int32)\n",
    "       \n",
    "\n",
    "**Otro ejemplo:**\n",
    "smiles: 'NC(=O)O'\n",
    "\n",
    "array([0, 0, 0, 0, 0, 0, 0, 0, 0, 0, 0, 0, 0, 0, 0, 0, 0, 0, 0, 0, 0, 0,\n",
    "       0, 0, 0, 0, 0, 0, 0, 0, 0, 0, 0, 0, 0, 0, 0, 0, 0, 0, 0, 0, 0, 0,\n",
    "       0, 0, 0, 0, 0, 0, 0, 0, 0, 0, 0, 0, 0, 0, 0, 0, 0, 0, 0, 0, 0, 0,\n",
    "       0, 0, 0, 0, 0, 0, 0, 0, 0, 0, 0, 0, 0, 0, 0, 0, 0, 0, 0, 0, 0, 0,\n",
    "       0, 0, 0, 0, 0, 0, 0, 0, 0, 0, 0, 0, 0, 0, 0, 0, 0, 0, 0, 0, 0, 0,\n",
    "       0, 0, 0, 0, 0, 0, 0, 0, 0, 0, 0, 0, 0, 0, 0, 0, 0, 0, 0, 0, 0, 0,\n",
    "       0, 0, 0, 0, 0, 0, 0, 0, 0, 0, 0, 0, 0, 0, 0, 0, 0, 0, 0, 0, 0, 0,\n",
    "       0, 0, 0, 0, 0, 0, 0, 0, 0, 0, 0, 0, 0, 0, 0, 0, 0, 0, 0, 0, 0, 0,\n",
    "       0, 0, 0, 0, 0, 0, 0, 0, 0, 0, 0, 0, 0, 0, 0, 0, 0, 0, 0, 0, 0, 0,\n",
    "       0, 0, 8, 2, 3, 9, 6, 4, 6], dtype=int32)\n",
    "\n",
    "**Tener en cuenta:**\n",
    "\n",
    "- Ver cuanta es la máxima longitud para agregar el padding correspondiente\n",
    "- En el ejemplo se agrego padding a la izquierda"
   ]
  },
  {
   "cell_type": "code",
   "execution_count": 60,
   "metadata": {},
   "outputs": [],
   "source": [
    "max_len_idx = df['canonical_smiles'].apply(len).argmax()\n",
    "min_len_idx = df['canonical_smiles'].apply(len).argmin()\n",
    "num_words = len(df['canonical_smiles'][max_len_idx])"
   ]
  },
  {
   "cell_type": "code",
   "execution_count": 61,
   "metadata": {},
   "outputs": [],
   "source": [
    "X = df['canonical_smiles']\n",
    "y = df['pIC50']"
   ]
  },
  {
   "cell_type": "code",
   "execution_count": 62,
   "metadata": {},
   "outputs": [],
   "source": [
    "# Implementar tokenización y guardar en X_seq_pad el dataset tokenizado\n",
    "tk = Tokenizer(num_words=num_words, filters='', char_level=True, lower=False)\n",
    "tk.fit_on_texts(X)\n",
    "a = tk.texts_to_sequences(X)\n",
    "X_seq_pad = pad_sequences(a, padding=\"pre\", truncating=\"post\", value=0.0, maxlen=207)"
   ]
  },
  {
   "cell_type": "code",
   "execution_count": 63,
   "metadata": {},
   "outputs": [
    {
     "name": "stdout",
     "output_type": "stream",
     "text": [
      "CCOc1nn(-c2cccc(OCc3ccccc3)c2)c(=O)o1\n",
      "[ 0  0  0  0  0  0  0  0  0  0  0  0  0  0  0  0  0  0  0  0  0  0  0  0\n",
      "  0  0  0  0  0  0  0  0  0  0  0  0  0  0  0  0  0  0  0  0  0  0  0  0\n",
      "  0  0  0  0  0  0  0  0  0  0  0  0  0  0  0  0  0  0  0  0  0  0  0  0\n",
      "  0  0  0  0  0  0  0  0  0  0  0  0  0  0  0  0  0  0  0  0  0  0  0  0\n",
      "  0  0  0  0  0  0  0  0  0  0  0  0  0  0  0  0  0  0  0  0  0  0  0  0\n",
      "  0  0  0  0  0  0  0  0  0  0  0  0  0  0  0  0  0  0  0  0  0  0  0  0\n",
      "  0  0  0  0  0  0  0  0  0  0  0  0  0  0  0  0  0  0  0  0  0  0  0  0\n",
      "  0  0  2  2  6  1  5 14 14  3 17  1  7  1  1  1  1  3  6  2  1 10  1  1\n",
      "  1  1  1 10  4  1  7  4  1  3  9  6  4 24  5]\n"
     ]
    }
   ],
   "source": [
    "print(X[0])\n",
    "print(X_seq_pad[0])"
   ]
  },
  {
   "cell_type": "markdown",
   "metadata": {},
   "source": [
    "# Split"
   ]
  },
  {
   "cell_type": "code",
   "execution_count": 9,
   "metadata": {},
   "outputs": [],
   "source": [
    "from sklearn.model_selection import train_test_split"
   ]
  },
  {
   "cell_type": "code",
   "execution_count": 10,
   "metadata": {},
   "outputs": [],
   "source": [
    "X_train, X_test, y_train, y_test = train_test_split(X_seq_pad, y, test_size=0.2, random_state=42)"
   ]
  },
  {
   "cell_type": "code",
   "execution_count": 11,
   "metadata": {},
   "outputs": [
    {
     "data": {
      "text/plain": [
       "(4082, 4082, 1021)"
      ]
     },
     "execution_count": 11,
     "metadata": {},
     "output_type": "execute_result"
    }
   ],
   "source": [
    "len(X_train), len(y_train), len(X_test)"
   ]
  },
  {
   "cell_type": "markdown",
   "metadata": {},
   "source": [
    "# Network Model"
   ]
  },
  {
   "cell_type": "code",
   "execution_count": 12,
   "metadata": {},
   "outputs": [],
   "source": [
    "from tensorflow.keras import Sequential\n",
    "from tensorflow.keras.layers import LSTM, Dense, Embedding, Bidirectional, Dropout, Activation, BatchNormalization\n",
    "from tensorflow.keras.callbacks import ModelCheckpoint, EarlyStopping, ReduceLROnPlateau\n",
    "from tensorflow.keras.optimizers import Adam, RMSprop\n",
    "from tensorflow.keras import backend as K"
   ]
  },
  {
   "cell_type": "code",
   "execution_count": 13,
   "metadata": {},
   "outputs": [],
   "source": [
    "# Métrica\n",
    "\n",
    "def R2(y_true, y_pred):\n",
    "    SS_res =  K.sum(K.square( y_true-y_pred ))\n",
    "    SS_tot = K.sum(K.square( y_true - K.mean(y_true) ) )\n",
    "    return ( 1 - SS_res/(SS_tot + K.epsilon()) )"
   ]
  },
  {
   "cell_type": "code",
   "execution_count": 14,
   "metadata": {},
   "outputs": [],
   "source": [
    "# Completar largo del vocabulario\n",
    "vocab_size = len(tk.word_index)"
   ]
  },
  {
   "cell_type": "code",
   "execution_count": 15,
   "metadata": {},
   "outputs": [],
   "source": [
    "max_sequence_len = X_seq_pad.shape[1]"
   ]
  },
  {
   "cell_type": "markdown",
   "metadata": {},
   "source": [
    "# Armar modelo en keras de LSTM\n",
    "El de abajo es un ejemplo propuesto pero puede armar otro similar (siempre con LSTM o GRU)"
   ]
  },
  {
   "cell_type": "raw",
   "metadata": {},
   "source": [
    "Model: \"sequential\"\n",
    "_________________________________________________________________\n",
    "Layer (type)                 Output Shape              Param #   \n",
    "=================================================================\n",
    "embedding (Embedding)        (None, 207, 64)           2496      \n",
    "_________________________________________________________________\n",
    "bidirectional (Bidirectional (None, 200)               132000    \n",
    "_________________________________________________________________\n",
    "dense (Dense)                (None, 50)                10050     \n",
    "_________________________________________________________________\n",
    "batch_normalization (BatchNo (None, 50)                200       \n",
    "_________________________________________________________________\n",
    "activation (Activation)      (None, 50)                0         \n",
    "_________________________________________________________________\n",
    "dense_1 (Dense)              (None, 1)                 51        \n",
    "=================================================================\n",
    "Total params: 144,797\n",
    "Trainable params: 144,697\n",
    "Non-trainable params: 100\n",
    "_________________________________________________________________"
   ]
  },
  {
   "cell_type": "code",
   "execution_count": 16,
   "metadata": {},
   "outputs": [],
   "source": [
    "# Implementar modelo completo\n",
    "model = Sequential()\n",
    "\n",
    "model.add(Embedding(input_dim = vocab_size + 1, output_dim = 64, input_length=max_sequence_len))\n",
    "model.add(Bidirectional(layer=LSTM(units=100)))\n",
    "model.add(Dense(units=50))\n",
    "model.add(BatchNormalization())\n",
    "model.add(Activation('relu'))\n",
    "model.add(Dense(units=1))"
   ]
  },
  {
   "cell_type": "code",
   "execution_count": 17,
   "metadata": {},
   "outputs": [
    {
     "name": "stdout",
     "output_type": "stream",
     "text": [
      "Model: \"sequential\"\n",
      "_________________________________________________________________\n",
      "Layer (type)                 Output Shape              Param #   \n",
      "=================================================================\n",
      "embedding (Embedding)        (None, 207, 64)           2496      \n",
      "_________________________________________________________________\n",
      "bidirectional (Bidirectional (None, 200)               132000    \n",
      "_________________________________________________________________\n",
      "dense (Dense)                (None, 50)                10050     \n",
      "_________________________________________________________________\n",
      "batch_normalization (BatchNo (None, 50)                200       \n",
      "_________________________________________________________________\n",
      "activation (Activation)      (None, 50)                0         \n",
      "_________________________________________________________________\n",
      "dense_1 (Dense)              (None, 1)                 51        \n",
      "=================================================================\n",
      "Total params: 144,797\n",
      "Trainable params: 144,697\n",
      "Non-trainable params: 100\n",
      "_________________________________________________________________\n"
     ]
    }
   ],
   "source": [
    "model.summary()"
   ]
  },
  {
   "cell_type": "code",
   "execution_count": 19,
   "metadata": {},
   "outputs": [],
   "source": [
    "def create_callbacks():\n",
    "    \n",
    "    early_stop = EarlyStopping(\n",
    "        monitor     = 'val_loss', \n",
    "        min_delta   = 0.01, \n",
    "        patience    = 25, \n",
    "        mode        = 'auto', \n",
    "        verbose     = 1\n",
    "    )\n",
    "    \n",
    "    reduce_on_plateau = ReduceLROnPlateau(\n",
    "        monitor  = 'val_loss',\n",
    "        factor   = 0.2,\n",
    "        patience = 5,\n",
    "        verbose  = 1,\n",
    "        mode     = 'min',\n",
    "        min_delta  = 0.01,\n",
    "        cooldown = 0,\n",
    "        min_lr   = 1e-8\n",
    "    )\n",
    "    checkpoint = ModelCheckpoint(\n",
    "        filepath        = 'models/best_model_{epoch}.h5', \n",
    "        monitor         = 'val_R2', \n",
    "        verbose         = 1, \n",
    "        save_best_only  = True, \n",
    "        mode            = 'max', \n",
    "        period          = 1\n",
    "    )\n",
    "\n",
    "    return [early_stop, reduce_on_plateau, checkpoint]"
   ]
  },
  {
   "cell_type": "code",
   "execution_count": 33,
   "metadata": {},
   "outputs": [],
   "source": [
    "model.compile(optimizer=RMSprop(learning_rate=1e-3), loss='mse', metrics=[R2])"
   ]
  },
  {
   "cell_type": "code",
   "execution_count": 31,
   "metadata": {},
   "outputs": [
    {
     "name": "stdout",
     "output_type": "stream",
     "text": [
      "WARNING:tensorflow:`period` argument is deprecated. Please use `save_freq` to specify the frequency in number of batches seen.\n"
     ]
    }
   ],
   "source": [
    "callbacks = create_callbacks()"
   ]
  },
  {
   "cell_type": "code",
   "execution_count": 34,
   "metadata": {
    "scrolled": true
   },
   "outputs": [
    {
     "name": "stdout",
     "output_type": "stream",
     "text": [
      "Epoch 1/100\n",
      "32/32 [==============================] - 26s 751ms/step - loss: 0.8215 - R2: 0.7058 - val_loss: 1.8122 - val_R2: 0.3458\n",
      "\n",
      "Epoch 00001: val_R2 did not improve from 0.57455\n",
      "Epoch 2/100\n",
      "32/32 [==============================] - 24s 756ms/step - loss: 0.6113 - R2: 0.7702 - val_loss: 1.7022 - val_R2: 0.3815\n",
      "\n",
      "Epoch 00002: val_R2 did not improve from 0.57455\n",
      "Epoch 3/100\n",
      "32/32 [==============================] - 25s 769ms/step - loss: 0.7304 - R2: 0.7578 - val_loss: 2.7949 - val_R2: -0.0242\n",
      "\n",
      "Epoch 00003: val_R2 did not improve from 0.57455\n",
      "Epoch 4/100\n",
      "32/32 [==============================] - 24s 767ms/step - loss: 0.6892 - R2: 0.7480 - val_loss: 1.8970 - val_R2: 0.2985\n",
      "\n",
      "Epoch 00004: val_R2 did not improve from 0.57455\n",
      "Epoch 5/100\n",
      "32/32 [==============================] - 25s 768ms/step - loss: 0.5925 - R2: 0.7689 - val_loss: 1.9384 - val_R2: 0.2844\n",
      "\n",
      "Epoch 00005: val_R2 did not improve from 0.57455\n",
      "Epoch 6/100\n",
      "32/32 [==============================] - 25s 787ms/step - loss: 0.6709 - R2: 0.7620 - val_loss: 3.1489 - val_R2: -0.1517\n",
      "\n",
      "Epoch 00006: val_R2 did not improve from 0.57455\n",
      "Epoch 7/100\n",
      "32/32 [==============================] - 25s 781ms/step - loss: 0.5678 - R2: 0.7926 - val_loss: 2.3756 - val_R2: 0.1275\n",
      "\n",
      "Epoch 00007: ReduceLROnPlateau reducing learning rate to 0.00020000000949949026.\n",
      "\n",
      "Epoch 00007: val_R2 did not improve from 0.57455\n",
      "Epoch 8/100\n",
      "32/32 [==============================] - 25s 783ms/step - loss: 0.5777 - R2: 0.7943 - val_loss: 1.4643 - val_R2: 0.4627\n",
      "\n",
      "Epoch 00008: val_R2 did not improve from 0.57455\n",
      "Epoch 9/100\n",
      "32/32 [==============================] - 25s 780ms/step - loss: 0.4933 - R2: 0.8244 - val_loss: 1.1801 - val_R2: 0.5661\n",
      "\n",
      "Epoch 00009: val_R2 did not improve from 0.57455\n",
      "Epoch 10/100\n",
      "32/32 [==============================] - 25s 785ms/step - loss: 0.5186 - R2: 0.8164 - val_loss: 1.1685 - val_R2: 0.5722\n",
      "\n",
      "Epoch 00010: val_R2 did not improve from 0.57455\n",
      "Epoch 11/100\n",
      "32/32 [==============================] - 26s 803ms/step - loss: 0.5724 - R2: 0.8222 - val_loss: 1.1824 - val_R2: 0.5664\n",
      "\n",
      "Epoch 00011: val_R2 did not improve from 0.57455\n",
      "Epoch 12/100\n",
      "32/32 [==============================] - 25s 786ms/step - loss: 0.4656 - R2: 0.8313 - val_loss: 1.1858 - val_R2: 0.5670\n",
      "\n",
      "Epoch 00012: val_R2 did not improve from 0.57455\n",
      "Epoch 13/100\n",
      "32/32 [==============================] - 26s 817ms/step - loss: 0.4449 - R2: 0.8376 - val_loss: 1.2785 - val_R2: 0.5324\n",
      "\n",
      "Epoch 00013: val_R2 did not improve from 0.57455\n",
      "Epoch 14/100\n",
      "32/32 [==============================] - 25s 786ms/step - loss: 0.4171 - R2: 0.8450 - val_loss: 1.3516 - val_R2: 0.5096\n",
      "\n",
      "Epoch 00014: val_R2 did not improve from 0.57455\n",
      "Epoch 15/100\n",
      "32/32 [==============================] - 25s 785ms/step - loss: 0.4672 - R2: 0.8291 - val_loss: 1.1899 - val_R2: 0.5636\n",
      "\n",
      "Epoch 00015: ReduceLROnPlateau reducing learning rate to 4.0000001899898055e-05.\n",
      "\n",
      "Epoch 00015: val_R2 did not improve from 0.57455\n",
      "Epoch 16/100\n",
      "32/32 [==============================] - 25s 792ms/step - loss: 0.4482 - R2: 0.8352 - val_loss: 1.1769 - val_R2: 0.5687\n",
      "\n",
      "Epoch 00016: val_R2 did not improve from 0.57455\n",
      "Epoch 17/100\n",
      "32/32 [==============================] - 25s 790ms/step - loss: 0.3751 - R2: 0.8606 - val_loss: 1.1807 - val_R2: 0.5681\n",
      "\n",
      "Epoch 00017: val_R2 did not improve from 0.57455\n",
      "Epoch 18/100\n",
      "32/32 [==============================] - 25s 787ms/step - loss: 0.3876 - R2: 0.8502 - val_loss: 1.1726 - val_R2: 0.5708\n",
      "\n",
      "Epoch 00018: val_R2 did not improve from 0.57455\n",
      "Epoch 19/100\n",
      "32/32 [==============================] - 26s 802ms/step - loss: 0.3727 - R2: 0.8649 - val_loss: 1.1682 - val_R2: 0.5722\n",
      "\n",
      "Epoch 00019: val_R2 did not improve from 0.57455\n",
      "Epoch 20/100\n",
      "32/32 [==============================] - 25s 794ms/step - loss: 0.4168 - R2: 0.8447 - val_loss: 1.1683 - val_R2: 0.5723\n",
      "\n",
      "Epoch 00020: ReduceLROnPlateau reducing learning rate to 8.000000525498762e-06.\n",
      "\n",
      "Epoch 00020: val_R2 did not improve from 0.57455\n",
      "Epoch 21/100\n",
      "32/32 [==============================] - 26s 805ms/step - loss: 0.4966 - R2: 0.8232 - val_loss: 1.1639 - val_R2: 0.5739\n",
      "\n",
      "Epoch 00021: val_R2 did not improve from 0.57455\n",
      "Epoch 22/100\n",
      "32/32 [==============================] - 25s 793ms/step - loss: 0.3720 - R2: 0.8606 - val_loss: 1.1618 - val_R2: 0.5747\n",
      "\n",
      "Epoch 00022: val_R2 improved from 0.57455 to 0.57470, saving model to models\\best_model_22.h5\n",
      "Epoch 23/100\n",
      "32/32 [==============================] - 25s 794ms/step - loss: 0.4384 - R2: 0.8492 - val_loss: 1.1598 - val_R2: 0.5752\n",
      "\n",
      "Epoch 00023: val_R2 improved from 0.57470 to 0.57522, saving model to models\\best_model_23.h5\n",
      "Epoch 24/100\n",
      "32/32 [==============================] - 26s 799ms/step - loss: 0.3750 - R2: 0.8600 - val_loss: 1.1578 - val_R2: 0.5759\n",
      "\n",
      "Epoch 00024: val_R2 improved from 0.57522 to 0.57589, saving model to models\\best_model_24.h5\n",
      "Epoch 25/100\n",
      "32/32 [==============================] - 25s 797ms/step - loss: 0.3638 - R2: 0.8612 - val_loss: 1.1557 - val_R2: 0.5766\n",
      "\n",
      "Epoch 00025: val_R2 improved from 0.57589 to 0.57659, saving model to models\\best_model_25.h5\n",
      "Epoch 26/100\n",
      "32/32 [==============================] - 26s 800ms/step - loss: 0.4163 - R2: 0.8551 - val_loss: 1.1569 - val_R2: 0.5762\n",
      "\n",
      "Epoch 00026: val_R2 did not improve from 0.57659\n",
      "Epoch 27/100\n",
      "32/32 [==============================] - 25s 796ms/step - loss: 0.4345 - R2: 0.8505 - val_loss: 1.1582 - val_R2: 0.5757\n",
      "\n",
      "Epoch 00027: val_R2 did not improve from 0.57659\n",
      "Epoch 28/100\n",
      "32/32 [==============================] - 26s 802ms/step - loss: 0.3946 - R2: 0.8405 - val_loss: 1.1587 - val_R2: 0.5755\n",
      "\n",
      "Epoch 00028: val_R2 did not improve from 0.57659\n",
      "Epoch 29/100\n",
      "32/32 [==============================] - 26s 804ms/step - loss: 0.3579 - R2: 0.8625 - val_loss: 1.1573 - val_R2: 0.5759\n",
      "\n",
      "Epoch 00029: ReduceLROnPlateau reducing learning rate to 1.6000001778593287e-06.\n",
      "\n",
      "Epoch 00029: val_R2 did not improve from 0.57659\n",
      "Epoch 30/100\n",
      "32/32 [==============================] - 26s 799ms/step - loss: 0.3827 - R2: 0.8634 - val_loss: 1.1572 - val_R2: 0.5759\n",
      "\n",
      "Epoch 00030: val_R2 did not improve from 0.57659\n",
      "Epoch 31/100\n",
      "32/32 [==============================] - 26s 798ms/step - loss: 0.4026 - R2: 0.8579 - val_loss: 1.1575 - val_R2: 0.5758\n",
      "\n",
      "Epoch 00031: val_R2 did not improve from 0.57659\n",
      "Epoch 32/100\n",
      "32/32 [==============================] - 26s 797ms/step - loss: 0.4097 - R2: 0.8542 - val_loss: 1.1574 - val_R2: 0.5759\n",
      "\n",
      "Epoch 00032: val_R2 did not improve from 0.57659\n",
      "Epoch 33/100\n",
      "32/32 [==============================] - 26s 800ms/step - loss: 0.4270 - R2: 0.8431 - val_loss: 1.1574 - val_R2: 0.5758\n",
      "\n",
      "Epoch 00033: val_R2 did not improve from 0.57659\n",
      "Epoch 34/100\n",
      "32/32 [==============================] - 26s 804ms/step - loss: 0.4365 - R2: 0.8349 - val_loss: 1.1574 - val_R2: 0.5758\n",
      "\n",
      "Epoch 00034: ReduceLROnPlateau reducing learning rate to 3.200000264769187e-07.\n",
      "\n",
      "Epoch 00034: val_R2 did not improve from 0.57659\n",
      "Epoch 35/100\n",
      "32/32 [==============================] - 25s 795ms/step - loss: 0.4479 - R2: 0.8373 - val_loss: 1.1575 - val_R2: 0.5758\n",
      "\n",
      "Epoch 00035: val_R2 did not improve from 0.57659\n",
      "Epoch 36/100\n",
      "32/32 [==============================] - 25s 793ms/step - loss: 0.4382 - R2: 0.8524 - val_loss: 1.1575 - val_R2: 0.5758\n",
      "\n",
      "Epoch 00036: val_R2 did not improve from 0.57659\n",
      "Epoch 37/100\n",
      "32/32 [==============================] - 26s 811ms/step - loss: 0.4160 - R2: 0.8506 - val_loss: 1.1577 - val_R2: 0.5757\n",
      "\n",
      "Epoch 00037: val_R2 did not improve from 0.57659\n",
      "Epoch 38/100\n",
      "32/32 [==============================] - 25s 794ms/step - loss: 0.4427 - R2: 0.8440 - val_loss: 1.1575 - val_R2: 0.5758\n",
      "\n",
      "Epoch 00038: val_R2 did not improve from 0.57659\n",
      "Epoch 39/100\n",
      "32/32 [==============================] - 26s 802ms/step - loss: 0.3894 - R2: 0.8486 - val_loss: 1.1572 - val_R2: 0.5759\n",
      "\n",
      "Epoch 00039: ReduceLROnPlateau reducing learning rate to 6.400000529538374e-08.\n",
      "\n",
      "Epoch 00039: val_R2 did not improve from 0.57659\n",
      "Epoch 40/100\n",
      "32/32 [==============================] - 25s 793ms/step - loss: 0.3920 - R2: 0.8562 - val_loss: 1.1571 - val_R2: 0.5760\n",
      "\n",
      "Epoch 00040: val_R2 did not improve from 0.57659\n",
      "Epoch 41/100\n",
      "32/32 [==============================] - 25s 795ms/step - loss: 0.3885 - R2: 0.8566 - val_loss: 1.1571 - val_R2: 0.5760\n",
      "\n",
      "Epoch 00041: val_R2 did not improve from 0.57659\n",
      "Epoch 42/100\n",
      "32/32 [==============================] - 26s 800ms/step - loss: 0.5090 - R2: 0.8430 - val_loss: 1.1571 - val_R2: 0.5759\n",
      "\n",
      "Epoch 00042: val_R2 did not improve from 0.57659\n",
      "Epoch 43/100\n",
      "32/32 [==============================] - 25s 796ms/step - loss: 0.3909 - R2: 0.8492 - val_loss: 1.1573 - val_R2: 0.5759\n",
      "\n",
      "Epoch 00043: val_R2 did not improve from 0.57659\n",
      "Epoch 44/100\n",
      "32/32 [==============================] - 26s 798ms/step - loss: 0.3710 - R2: 0.8561 - val_loss: 1.1571 - val_R2: 0.5760\n",
      "\n",
      "Epoch 00044: ReduceLROnPlateau reducing learning rate to 1.2800001059076749e-08.\n",
      "\n",
      "Epoch 00044: val_R2 did not improve from 0.57659\n",
      "Epoch 00044: early stopping\n"
     ]
    }
   ],
   "source": [
    "history = model.fit(X_train, y_train, epochs=100, batch_size=128, validation_data=(X_test, y_test), callbacks=callbacks)"
   ]
  },
  {
   "cell_type": "code",
   "execution_count": 36,
   "metadata": {},
   "outputs": [],
   "source": [
    "y_pred = model.predict(X_test)"
   ]
  },
  {
   "cell_type": "markdown",
   "metadata": {},
   "source": [
    "# Score"
   ]
  },
  {
   "cell_type": "code",
   "execution_count": 37,
   "metadata": {},
   "outputs": [],
   "source": [
    "r2 = 1 - ((y_test.values - y_pred.reshape(-1)) ** 2).sum() / ((y_test - y_test.mean()) ** 2).sum()"
   ]
  },
  {
   "cell_type": "code",
   "execution_count": 40,
   "metadata": {},
   "outputs": [
    {
     "data": {
      "text/plain": [
       "0.5991329683598814"
      ]
     },
     "execution_count": 40,
     "metadata": {},
     "output_type": "execute_result"
    }
   ],
   "source": [
    "r2"
   ]
  },
  {
   "cell_type": "code",
   "execution_count": 39,
   "metadata": {},
   "outputs": [],
   "source": [
    "model.save('models/embed_64_bi_lstm_100_dense_50_bn.h5')"
   ]
  },
  {
   "cell_type": "markdown",
   "metadata": {},
   "source": [
    "# Load model (solo si se grabo el modelo)"
   ]
  },
  {
   "cell_type": "code",
   "execution_count": 41,
   "metadata": {},
   "outputs": [],
   "source": [
    "from tensorflow.keras.models import load_model"
   ]
  },
  {
   "cell_type": "code",
   "execution_count": 52,
   "metadata": {},
   "outputs": [],
   "source": [
    "model_loaded = load_model('models/embed_64_bi_lstm_100_dense_50_bn_best.h5', custom_objects={'R2': R2})"
   ]
  },
  {
   "cell_type": "code",
   "execution_count": 53,
   "metadata": {},
   "outputs": [],
   "source": [
    "y_pred = model_loaded.predict(X_test)"
   ]
  },
  {
   "cell_type": "code",
   "execution_count": 54,
   "metadata": {},
   "outputs": [
    {
     "data": {
      "text/plain": [
       "0.5996175105773278"
      ]
     },
     "execution_count": 54,
     "metadata": {},
     "output_type": "execute_result"
    }
   ],
   "source": [
    "r2 = 1 - ((y_test.values - y_pred.reshape(-1)) ** 2).sum() / ((y_test - y_test.mean()) ** 2).sum()\n",
    "r2"
   ]
  },
  {
   "cell_type": "markdown",
   "metadata": {},
   "source": [
    "¿Hasta que valores de r2 logró?"
   ]
  },
  {
   "cell_type": "markdown",
   "metadata": {},
   "source": [
    "0.5996175105773278"
   ]
  },
  {
   "cell_type": "markdown",
   "metadata": {},
   "source": [
    "# Evaluación"
   ]
  },
  {
   "cell_type": "code",
   "execution_count": 55,
   "metadata": {},
   "outputs": [
    {
     "data": {
      "text/plain": [
       "<function matplotlib.pyplot.show(close=None, block=None)>"
      ]
     },
     "execution_count": 55,
     "metadata": {},
     "output_type": "execute_result"
    },
    {
     "data": {
      "image/png": "[encoded data removed]",
      "text/plain": [
       "<Figure size 360x360 with 1 Axes>"
      ]
     },
     "metadata": {},
     "output_type": "display_data"
    }
   ],
   "source": [
    "import seaborn as sns\n",
    "import matplotlib.pyplot as plt\n",
    "\n",
    "sns.set(color_codes=True)\n",
    "sns.set_style(\"white\")\n",
    "\n",
    "ax = sns.regplot(x=y_test, y=y_pred, scatter_kws={'alpha':0.4})\n",
    "ax.set_xlabel('Experimental pIC50', fontsize='large', fontweight='bold')\n",
    "ax.set_ylabel('Predicted pIC50', fontsize='large', fontweight='bold')\n",
    "ax.set_xlim(0, 12)\n",
    "ax.set_ylim(0, 12)\n",
    "ax.figure.set_size_inches(5, 5)\n",
    "plt.show"
   ]
  }
 ],
 "metadata": {
  "kernelspec": {
   "display_name": "DL",
   "language": "python",
   "name": "dl"
  },
  "language_info": {
   "codemirror_mode": {
    "name": "ipython",
    "version": 3
   },
   "file_extension": ".py",
   "mimetype": "text/x-python",
   "name": "python",
   "nbconvert_exporter": "python",
   "pygments_lexer": "ipython3",
   "version": "3.7.9"
  }
 },
 "nbformat": 4,
 "nbformat_minor": 5
}
