{
 "cells": [
  {
   "cell_type": "code",
   "execution_count": 1,
   "metadata": {},
   "outputs": [],
   "source": [
    "import pandas as pd"
   ]
  },
  {
   "cell_type": "code",
   "execution_count": 2,
   "metadata": {},
   "outputs": [],
   "source": [
    "import deepchem as dc"
   ]
  },
  {
   "cell_type": "markdown",
   "metadata": {},
   "source": [
    "# Cargo dataset"
   ]
  },
  {
   "cell_type": "code",
   "execution_count": 3,
   "metadata": {},
   "outputs": [],
   "source": [
    "df = pd.read_csv('data/acetylcholinesterase_02_bioactivity_data_preprocessed.csv')"
   ]
  },
  {
   "cell_type": "code",
   "execution_count": 4,
   "metadata": {},
   "outputs": [
    {
     "data": {
      "text/html": [
       "<div>\n",
       "<style scoped>\n",
       "    .dataframe tbody tr th:only-of-type {\n",
       "        vertical-align: middle;\n",
       "    }\n",
       "\n",
       "    .dataframe tbody tr th {\n",
       "        vertical-align: top;\n",
       "    }\n",
       "\n",
       "    .dataframe thead th {\n",
       "        text-align: right;\n",
       "    }\n",
       "</style>\n",
       "<table border=\"1\" class=\"dataframe\">\n",
       "  <thead>\n",
       "    <tr style=\"text-align: right;\">\n",
       "      <th></th>\n",
       "      <th>molecule_chembl_id</th>\n",
       "      <th>canonical_smiles</th>\n",
       "      <th>standard_value</th>\n",
       "      <th>standard_value_norm</th>\n",
       "      <th>pIC50</th>\n",
       "    </tr>\n",
       "  </thead>\n",
       "  <tbody>\n",
       "    <tr>\n",
       "      <th>0</th>\n",
       "      <td>CHEMBL133897</td>\n",
       "      <td>CCOc1nn(-c2cccc(OCc3ccccc3)c2)c(=O)o1</td>\n",
       "      <td>750.0</td>\n",
       "      <td>750.0</td>\n",
       "      <td>6.124939</td>\n",
       "    </tr>\n",
       "    <tr>\n",
       "      <th>1</th>\n",
       "      <td>CHEMBL336398</td>\n",
       "      <td>O=C(N1CCCCC1)n1nc(-c2ccc(Cl)cc2)nc1SCC1CC1</td>\n",
       "      <td>100.0</td>\n",
       "      <td>100.0</td>\n",
       "      <td>7.000000</td>\n",
       "    </tr>\n",
       "    <tr>\n",
       "      <th>2</th>\n",
       "      <td>CHEMBL131588</td>\n",
       "      <td>CN(C(=O)n1nc(-c2ccc(Cl)cc2)nc1SCC(F)(F)F)c1ccccc1</td>\n",
       "      <td>50000.0</td>\n",
       "      <td>50000.0</td>\n",
       "      <td>4.301030</td>\n",
       "    </tr>\n",
       "    <tr>\n",
       "      <th>3</th>\n",
       "      <td>CHEMBL130628</td>\n",
       "      <td>O=C(N1CCCCC1)n1nc(-c2ccc(Cl)cc2)nc1SCC(F)(F)F</td>\n",
       "      <td>300.0</td>\n",
       "      <td>300.0</td>\n",
       "      <td>6.522879</td>\n",
       "    </tr>\n",
       "    <tr>\n",
       "      <th>4</th>\n",
       "      <td>CHEMBL130478</td>\n",
       "      <td>CSc1nc(-c2ccc(OC(F)(F)F)cc2)nn1C(=O)N(C)C</td>\n",
       "      <td>800.0</td>\n",
       "      <td>800.0</td>\n",
       "      <td>6.096910</td>\n",
       "    </tr>\n",
       "    <tr>\n",
       "      <th>...</th>\n",
       "      <td>...</td>\n",
       "      <td>...</td>\n",
       "      <td>...</td>\n",
       "      <td>...</td>\n",
       "      <td>...</td>\n",
       "    </tr>\n",
       "    <tr>\n",
       "      <th>5098</th>\n",
       "      <td>CHEMBL4645476</td>\n",
       "      <td>CN(C)C(=O)Oc1ccc(C(O)CNC2CCCCC2)cc1.Cl</td>\n",
       "      <td>266000.0</td>\n",
       "      <td>266000.0</td>\n",
       "      <td>3.575118</td>\n",
       "    </tr>\n",
       "    <tr>\n",
       "      <th>5099</th>\n",
       "      <td>CHEMBL4645659</td>\n",
       "      <td>COc1ccc(CCC(=O)Nc2nc(-c3cc4ccccc4oc3=O)cs2)cc1OC</td>\n",
       "      <td>740.0</td>\n",
       "      <td>740.0</td>\n",
       "      <td>6.130768</td>\n",
       "    </tr>\n",
       "    <tr>\n",
       "      <th>5100</th>\n",
       "      <td>CHEMBL513063</td>\n",
       "      <td>COc1ccc(-c2csc(NC(=O)CCN3CCCC3)n2)cc1</td>\n",
       "      <td>510.0</td>\n",
       "      <td>510.0</td>\n",
       "      <td>6.292430</td>\n",
       "    </tr>\n",
       "    <tr>\n",
       "      <th>5101</th>\n",
       "      <td>CHEMBL4640608</td>\n",
       "      <td>COc1cc(C2C3=C(CCCC3=O)NC3=C2C(=O)CCC3)ccc1OCc1...</td>\n",
       "      <td>125000.0</td>\n",
       "      <td>125000.0</td>\n",
       "      <td>3.903090</td>\n",
       "    </tr>\n",
       "    <tr>\n",
       "      <th>5102</th>\n",
       "      <td>CHEMBL4173961</td>\n",
       "      <td>O=C1CCCC2=C1C(c1ccc(OCc3cccc(F)c3)c(Br)c1)C1=C...</td>\n",
       "      <td>100000.0</td>\n",
       "      <td>100000.0</td>\n",
       "      <td>4.000000</td>\n",
       "    </tr>\n",
       "  </tbody>\n",
       "</table>\n",
       "<p>5103 rows × 5 columns</p>\n",
       "</div>"
      ],
      "text/plain": [
       "     molecule_chembl_id                                   canonical_smiles  \\\n",
       "0          CHEMBL133897              CCOc1nn(-c2cccc(OCc3ccccc3)c2)c(=O)o1   \n",
       "1          CHEMBL336398         O=C(N1CCCCC1)n1nc(-c2ccc(Cl)cc2)nc1SCC1CC1   \n",
       "2          CHEMBL131588  CN(C(=O)n1nc(-c2ccc(Cl)cc2)nc1SCC(F)(F)F)c1ccccc1   \n",
       "3          CHEMBL130628      O=C(N1CCCCC1)n1nc(-c2ccc(Cl)cc2)nc1SCC(F)(F)F   \n",
       "4          CHEMBL130478          CSc1nc(-c2ccc(OC(F)(F)F)cc2)nn1C(=O)N(C)C   \n",
       "...                 ...                                                ...   \n",
       "5098      CHEMBL4645476             CN(C)C(=O)Oc1ccc(C(O)CNC2CCCCC2)cc1.Cl   \n",
       "5099      CHEMBL4645659   COc1ccc(CCC(=O)Nc2nc(-c3cc4ccccc4oc3=O)cs2)cc1OC   \n",
       "5100       CHEMBL513063              COc1ccc(-c2csc(NC(=O)CCN3CCCC3)n2)cc1   \n",
       "5101      CHEMBL4640608  COc1cc(C2C3=C(CCCC3=O)NC3=C2C(=O)CCC3)ccc1OCc1...   \n",
       "5102      CHEMBL4173961  O=C1CCCC2=C1C(c1ccc(OCc3cccc(F)c3)c(Br)c1)C1=C...   \n",
       "\n",
       "      standard_value  standard_value_norm     pIC50  \n",
       "0              750.0                750.0  6.124939  \n",
       "1              100.0                100.0  7.000000  \n",
       "2            50000.0              50000.0  4.301030  \n",
       "3              300.0                300.0  6.522879  \n",
       "4              800.0                800.0  6.096910  \n",
       "...              ...                  ...       ...  \n",
       "5098        266000.0             266000.0  3.575118  \n",
       "5099           740.0                740.0  6.130768  \n",
       "5100           510.0                510.0  6.292430  \n",
       "5101        125000.0             125000.0  3.903090  \n",
       "5102        100000.0             100000.0  4.000000  \n",
       "\n",
       "[5103 rows x 5 columns]"
      ]
     },
     "execution_count": 4,
     "metadata": {},
     "output_type": "execute_result"
    }
   ],
   "source": [
    "df"
   ]
  },
  {
   "cell_type": "markdown",
   "metadata": {},
   "source": [
    "# Pongo el dataset en el formato que deepchem necesita\n",
    "Quizas aca se podía bajar directo en el formato"
   ]
  },
  {
   "cell_type": "code",
   "execution_count": 5,
   "metadata": {},
   "outputs": [],
   "source": [
    "dataset = dc.data.NumpyDataset(X=df['canonical_smiles'].values, y=df['pIC50'].values, ids=df['canonical_smiles'].values)"
   ]
  },
  {
   "cell_type": "markdown",
   "metadata": {},
   "source": [
    "# Divido en train y test\n",
    "Faltaría validación estrictametne"
   ]
  },
  {
   "cell_type": "code",
   "execution_count": 6,
   "metadata": {},
   "outputs": [],
   "source": [
    "splitter = dc.splits.RandomSplitter()"
   ]
  },
  {
   "cell_type": "code",
   "execution_count": 7,
   "metadata": {},
   "outputs": [],
   "source": [
    "train, test = splitter.train_test_split(dataset)"
   ]
  },
  {
   "cell_type": "markdown",
   "metadata": {},
   "source": [
    "# Genero el diccionario de smiles que necesita el modelo para contruir el embedding"
   ]
  },
  {
   "cell_type": "code",
   "execution_count": 8,
   "metadata": {},
   "outputs": [],
   "source": [
    "smiles_dict, lenght = dc.models.TextCNNModel.build_char_dict(dataset)"
   ]
  },
  {
   "cell_type": "code",
   "execution_count": 9,
   "metadata": {},
   "outputs": [
    {
     "data": {
      "text/plain": [
       "{'#': 1,\n",
       " '(': 2,\n",
       " ')': 3,\n",
       " '+': 4,\n",
       " '-': 5,\n",
       " '/': 6,\n",
       " '1': 7,\n",
       " '2': 8,\n",
       " '3': 9,\n",
       " '4': 10,\n",
       " '5': 11,\n",
       " '6': 12,\n",
       " '7': 13,\n",
       " '8': 14,\n",
       " '=': 15,\n",
       " 'C': 16,\n",
       " 'F': 17,\n",
       " 'H': 18,\n",
       " 'I': 19,\n",
       " 'N': 20,\n",
       " 'O': 21,\n",
       " 'P': 22,\n",
       " 'S': 23,\n",
       " '[': 24,\n",
       " '\\\\': 25,\n",
       " ']': 26,\n",
       " '_': 27,\n",
       " 'c': 28,\n",
       " 'Cl': 29,\n",
       " 'Br': 30,\n",
       " 'n': 31,\n",
       " 'o': 32,\n",
       " 's': 33,\n",
       " '@': 34,\n",
       " '.': 35,\n",
       " 'a': 36,\n",
       " 'B': 37,\n",
       " 'e': 38,\n",
       " 'i': 39}"
      ]
     },
     "execution_count": 9,
     "metadata": {},
     "output_type": "execute_result"
    }
   ],
   "source": [
    "smiles_dict"
   ]
  },
  {
   "cell_type": "markdown",
   "metadata": {},
   "source": [
    "# Instancio el modelo"
   ]
  },
  {
   "cell_type": "code",
   "execution_count": 10,
   "metadata": {},
   "outputs": [],
   "source": [
    "model = dc.models.TextCNNModel(\n",
    "    1, smiles_dict, lenght, mode='regression', n_embedding=128, kernel_sizes=[3, 4, 5], num_filters=[128, 128, 128], dropout=0., \n",
    "    log_frequency=5, batch_size=128, optimizer=dc.models.optimizers.Adam()\n",
    ")"
   ]
  },
  {
   "cell_type": "code",
   "execution_count": 11,
   "metadata": {},
   "outputs": [
    {
     "name": "stdout",
     "output_type": "stream",
     "text": [
      "Model: \"model\"\n",
      "__________________________________________________________________________________________________\n",
      "Layer (type)                    Output Shape         Param #     Connected to                     \n",
      "==================================================================================================\n",
      "input_1 (InputLayer)            [(None, 248)]        0                                            \n",
      "__________________________________________________________________________________________________\n",
      "dtnn_embedding (DTNNEmbedding)  (None, 248, 128)     5120        input_1[0][0]                    \n",
      "__________________________________________________________________________________________________\n",
      "conv1d (Conv1D)                 (None, 246, 128)     49280       dtnn_embedding[0][0]             \n",
      "__________________________________________________________________________________________________\n",
      "conv1d_1 (Conv1D)               (None, 245, 128)     65664       dtnn_embedding[0][0]             \n",
      "__________________________________________________________________________________________________\n",
      "conv1d_2 (Conv1D)               (None, 244, 128)     82048       dtnn_embedding[0][0]             \n",
      "__________________________________________________________________________________________________\n",
      "lambda (Lambda)                 (None, 128)          0           conv1d[0][0]                     \n",
      "__________________________________________________________________________________________________\n",
      "lambda_1 (Lambda)               (None, 128)          0           conv1d_1[0][0]                   \n",
      "__________________________________________________________________________________________________\n",
      "lambda_2 (Lambda)               (None, 128)          0           conv1d_2[0][0]                   \n",
      "__________________________________________________________________________________________________\n",
      "concatenate (Concatenate)       (None, 384)          0           lambda[0][0]                     \n",
      "                                                                 lambda_1[0][0]                   \n",
      "                                                                 lambda_2[0][0]                   \n",
      "__________________________________________________________________________________________________\n",
      "dropout (Dropout)               (None, 384)          0           concatenate[0][0]                \n",
      "__________________________________________________________________________________________________\n",
      "dense (Dense)                   (None, 200)          77000       dropout[0][0]                    \n",
      "__________________________________________________________________________________________________\n",
      "highway (Highway)               (None, 200)          80400       dense[0][0]                      \n",
      "__________________________________________________________________________________________________\n",
      "dense_1 (Dense)                 (None, 1)            201         highway[0][0]                    \n",
      "__________________________________________________________________________________________________\n",
      "reshape (Reshape)               (None, 1, 1)         0           dense_1[0][0]                    \n",
      "==================================================================================================\n",
      "Total params: 359,713\n",
      "Trainable params: 359,713\n",
      "Non-trainable params: 0\n",
      "__________________________________________________________________________________________________\n"
     ]
    }
   ],
   "source": [
    "model.model.summary()"
   ]
  },
  {
   "cell_type": "code",
   "execution_count": 12,
   "metadata": {},
   "outputs": [],
   "source": [
    "# Es necesario para ver resultados mientras entrana\n",
    "vc = dc.models.ValidationCallback(test, 20, dc.metrics.r2_score)"
   ]
  },
  {
   "cell_type": "markdown",
   "metadata": {},
   "source": [
    "# Entreno"
   ]
  },
  {
   "cell_type": "code",
   "execution_count": 13,
   "metadata": {
    "tags": []
   },
   "outputs": [
    {
     "name": "stdout",
     "output_type": "stream",
     "text": [
      "Step 20 validation: metric-1=-0.228998\n",
      "Step 40 validation: metric-1=0.219221\n",
      "Step 60 validation: metric-1=0.279928\n",
      "Step 80 validation: metric-1=0.319328\n",
      "Step 100 validation: metric-1=0.35241\n",
      "Step 120 validation: metric-1=0.390695\n",
      "Step 140 validation: metric-1=0.427813\n",
      "Step 160 validation: metric-1=0.450775\n",
      "Step 180 validation: metric-1=0.50461\n",
      "Step 200 validation: metric-1=0.511492\n",
      "Step 220 validation: metric-1=0.543713\n",
      "Step 240 validation: metric-1=0.570686\n",
      "Step 260 validation: metric-1=0.603076\n",
      "Step 280 validation: metric-1=0.605956\n",
      "Step 300 validation: metric-1=0.614017\n",
      "Step 320 validation: metric-1=0.636365\n",
      "Step 340 validation: metric-1=0.655272\n",
      "Step 360 validation: metric-1=0.671507\n",
      "Step 380 validation: metric-1=0.667063\n",
      "Step 400 validation: metric-1=0.664802\n",
      "Step 420 validation: metric-1=0.681529\n",
      "Step 440 validation: metric-1=0.689974\n",
      "Step 460 validation: metric-1=0.692201\n",
      "Step 480 validation: metric-1=0.68003\n",
      "Step 500 validation: metric-1=0.687827\n",
      "Step 520 validation: metric-1=0.697674\n",
      "Step 540 validation: metric-1=0.704422\n",
      "Step 560 validation: metric-1=0.709553\n",
      "Step 580 validation: metric-1=0.697644\n",
      "Step 600 validation: metric-1=0.707237\n",
      "Step 620 validation: metric-1=0.720835\n",
      "Step 640 validation: metric-1=0.714109\n",
      "Step 660 validation: metric-1=0.602794\n",
      "Step 680 validation: metric-1=0.715205\n",
      "Step 700 validation: metric-1=0.668459\n",
      "Step 720 validation: metric-1=0.726356\n",
      "Step 740 validation: metric-1=0.694187\n",
      "Step 760 validation: metric-1=0.715283\n",
      "Step 780 validation: metric-1=0.714931\n",
      "Step 800 validation: metric-1=0.716631\n",
      "Step 820 validation: metric-1=0.716038\n",
      "Step 840 validation: metric-1=0.723238\n",
      "Step 860 validation: metric-1=0.719915\n",
      "Step 880 validation: metric-1=0.714369\n",
      "Step 900 validation: metric-1=0.707656\n",
      "Step 920 validation: metric-1=0.67164\n",
      "Step 940 validation: metric-1=0.717748\n",
      "Step 960 validation: metric-1=0.725403\n",
      "Step 980 validation: metric-1=0.719736\n",
      "Step 1000 validation: metric-1=0.714268\n",
      "Step 1020 validation: metric-1=0.72552\n",
      "Step 1040 validation: metric-1=0.707047\n",
      "Step 1060 validation: metric-1=0.699881\n",
      "Step 1080 validation: metric-1=0.718337\n",
      "Step 1100 validation: metric-1=0.715969\n",
      "Step 1120 validation: metric-1=0.698619\n",
      "Step 1140 validation: metric-1=0.705669\n",
      "Step 1160 validation: metric-1=0.712144\n",
      "Step 1180 validation: metric-1=0.721154\n",
      "Step 1200 validation: metric-1=0.718099\n",
      "Step 1220 validation: metric-1=0.72163\n",
      "Step 1240 validation: metric-1=0.719701\n",
      "Step 1260 validation: metric-1=0.704003\n",
      "Step 1280 validation: metric-1=0.715574\n",
      "Step 1300 validation: metric-1=0.698603\n",
      "Step 1320 validation: metric-1=0.726447\n",
      "Step 1340 validation: metric-1=0.711686\n",
      "Step 1360 validation: metric-1=0.713118\n",
      "Step 1380 validation: metric-1=0.722147\n",
      "Step 1400 validation: metric-1=0.725578\n",
      "Step 1420 validation: metric-1=0.675757\n",
      "Step 1440 validation: metric-1=0.721142\n",
      "Step 1460 validation: metric-1=0.701841\n",
      "Step 1480 validation: metric-1=0.705565\n",
      "Step 1500 validation: metric-1=0.7181\n",
      "Step 1520 validation: metric-1=0.654322\n",
      "Step 1540 validation: metric-1=0.722077\n",
      "Step 1560 validation: metric-1=0.692641\n",
      "Step 1580 validation: metric-1=0.709253\n",
      "Step 1600 validation: metric-1=0.651995\n",
      "Step 1620 validation: metric-1=0.711758\n",
      "Step 1640 validation: metric-1=0.707869\n",
      "Step 1660 validation: metric-1=0.708997\n",
      "Step 1680 validation: metric-1=0.712402\n",
      "Step 1700 validation: metric-1=0.674174\n",
      "Step 1720 validation: metric-1=0.709002\n",
      "Step 1740 validation: metric-1=0.703659\n",
      "Step 1760 validation: metric-1=0.695301\n",
      "Step 1780 validation: metric-1=0.716572\n",
      "Step 1800 validation: metric-1=0.700333\n",
      "Step 1820 validation: metric-1=0.644394\n",
      "Step 1840 validation: metric-1=0.71392\n",
      "Step 1860 validation: metric-1=0.695511\n",
      "Step 1880 validation: metric-1=0.715016\n",
      "Step 1900 validation: metric-1=0.650405\n",
      "Step 1920 validation: metric-1=0.715316\n",
      "Step 1940 validation: metric-1=0.717445\n",
      "Step 1960 validation: metric-1=0.631729\n",
      "Step 1980 validation: metric-1=0.666988\n",
      "Step 2000 validation: metric-1=0.699296\n",
      "Step 2020 validation: metric-1=0.684879\n",
      "Step 2040 validation: metric-1=0.723368\n",
      "Step 2060 validation: metric-1=0.708446\n",
      "Step 2080 validation: metric-1=0.708431\n",
      "Step 2100 validation: metric-1=0.709868\n",
      "Step 2120 validation: metric-1=0.713924\n",
      "Step 2140 validation: metric-1=0.699796\n",
      "Step 2160 validation: metric-1=0.699857\n",
      "Step 2180 validation: metric-1=0.690715\n",
      "Step 2200 validation: metric-1=0.715453\n",
      "Step 2220 validation: metric-1=0.671918\n",
      "Step 2240 validation: metric-1=0.70709\n",
      "Step 2260 validation: metric-1=0.703905\n",
      "Step 2280 validation: metric-1=0.692019\n",
      "Step 2300 validation: metric-1=0.704636\n",
      "Step 2320 validation: metric-1=0.705475\n",
      "Step 2340 validation: metric-1=0.705206\n",
      "Step 2360 validation: metric-1=0.704708\n",
      "Step 2380 validation: metric-1=0.713544\n",
      "Step 2400 validation: metric-1=0.676745\n",
      "Step 2420 validation: metric-1=0.692459\n",
      "Step 2440 validation: metric-1=0.643251\n",
      "Step 2460 validation: metric-1=0.717752\n",
      "Step 2480 validation: metric-1=0.698709\n",
      "Step 2500 validation: metric-1=0.71633\n",
      "Step 2520 validation: metric-1=0.69914\n",
      "Step 2540 validation: metric-1=0.709933\n",
      "Step 2560 validation: metric-1=0.688081\n",
      "Step 2580 validation: metric-1=0.697317\n",
      "Step 2600 validation: metric-1=0.690048\n",
      "Step 2620 validation: metric-1=0.696895\n",
      "Step 2640 validation: metric-1=0.709833\n",
      "Step 2660 validation: metric-1=0.70005\n",
      "Step 2680 validation: metric-1=0.600581\n",
      "Step 2700 validation: metric-1=0.701492\n",
      "Step 2720 validation: metric-1=0.719913\n",
      "Step 2740 validation: metric-1=0.717383\n",
      "Step 2760 validation: metric-1=0.709428\n",
      "Step 2780 validation: metric-1=0.703057\n",
      "Step 2800 validation: metric-1=0.697154\n",
      "Step 2820 validation: metric-1=0.691279\n",
      "Step 2840 validation: metric-1=0.676556\n",
      "Step 2860 validation: metric-1=0.700427\n",
      "Step 2880 validation: metric-1=0.70973\n",
      "Step 2900 validation: metric-1=0.697657\n",
      "Step 2920 validation: metric-1=0.708449\n",
      "Step 2940 validation: metric-1=0.707704\n",
      "Step 2960 validation: metric-1=0.705535\n",
      "Step 2980 validation: metric-1=0.693535\n",
      "Step 3000 validation: metric-1=0.699063\n",
      "Step 3020 validation: metric-1=0.694241\n",
      "Step 3040 validation: metric-1=0.673923\n",
      "Step 3060 validation: metric-1=0.716439\n",
      "Step 3080 validation: metric-1=0.685101\n",
      "Step 3100 validation: metric-1=0.706236\n",
      "Step 3120 validation: metric-1=0.704577\n",
      "Step 3140 validation: metric-1=0.700648\n",
      "Step 3160 validation: metric-1=0.714071\n",
      "Step 3180 validation: metric-1=0.604609\n",
      "Step 3200 validation: metric-1=0.696774\n"
     ]
    },
    {
     "data": {
      "text/plain": [
       "0.19754068851470946"
      ]
     },
     "execution_count": 13,
     "metadata": {},
     "output_type": "execute_result"
    }
   ],
   "source": [
    "model.fit(train, 100, callbacks=[vc])"
   ]
  },
  {
   "cell_type": "markdown",
   "metadata": {},
   "source": [
    "# Evaluó"
   ]
  },
  {
   "cell_type": "code",
   "execution_count": 14,
   "metadata": {},
   "outputs": [
    {
     "data": {
      "text/plain": [
       "{'metric-1': 0.9370228493631341}"
      ]
     },
     "execution_count": 14,
     "metadata": {},
     "output_type": "execute_result"
    }
   ],
   "source": [
    "model.evaluate(train, dc.metrics.r2_score)"
   ]
  },
  {
   "cell_type": "code",
   "execution_count": 15,
   "metadata": {},
   "outputs": [
    {
     "data": {
      "text/plain": [
       "{'metric-1': 0.6967739933221686}"
      ]
     },
     "execution_count": 15,
     "metadata": {},
     "output_type": "execute_result"
    }
   ],
   "source": [
    "model.evaluate(test, dc.metrics.r2_score)"
   ]
  },
  {
   "cell_type": "code",
   "execution_count": null,
   "metadata": {},
   "outputs": [],
   "source": []
  }
 ],
 "metadata": {
  "kernelspec": {
   "display_name": "DL",
   "language": "python",
   "name": "dl"
  },
  "language_info": {
   "codemirror_mode": {
    "name": "ipython",
    "version": 3
   },
   "file_extension": ".py",
   "mimetype": "text/x-python",
   "name": "python",
   "nbconvert_exporter": "python",
   "pygments_lexer": "ipython3",
   "version": "3.7.9"
  }
 },
 "nbformat": 4,
 "nbformat_minor": 5
}
