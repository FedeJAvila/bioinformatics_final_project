{
 "cells": [
  {
   "cell_type": "code",
   "execution_count": 1,
   "metadata": {},
   "outputs": [],
   "source": [
    "%load_ext autoreload\n",
    "%autoreload 2"
   ]
  },
  {
   "cell_type": "markdown",
   "metadata": {},
   "source": [
    "# Modelo CNN con generador, embedings de smiles y data-augmentation"
   ]
  },
  {
   "cell_type": "code",
   "execution_count": 2,
   "metadata": {},
   "outputs": [],
   "source": [
    "import pandas as pd\n",
    "import numpy as np\n",
    "from datagen import smiles_dict, smiles_to_seq"
   ]
  },
  {
   "cell_type": "markdown",
   "metadata": {},
   "source": [
    "### smiles_dict"
   ]
  },
  {
   "cell_type": "code",
   "execution_count": 3,
   "metadata": {},
   "outputs": [
    {
     "data": {
      "text/plain": [
       "42"
      ]
     },
     "execution_count": 3,
     "metadata": {},
     "output_type": "execute_result"
    }
   ],
   "source": [
    "len(smiles_dict)"
   ]
  },
  {
   "cell_type": "markdown",
   "metadata": {},
   "source": [
    "smiles_dict nos da un tokenizador para simplificar el problema. Puede ver como se construyó en la notebook **deep_chem**.\n",
    "Si al momento de correr el modelo con este diccionario encuentra problemas de key_error, puede agregar los faltantes al diccionario\n",
    "\n",
    "Mirar dentro de **datagen.py** como se usa este diccionario con la función **smiles_to_seq** para tokenizar. El código es muy sencillo"
   ]
  },
  {
   "cell_type": "code",
   "execution_count": 4,
   "metadata": {},
   "outputs": [
    {
     "name": "stdout",
     "output_type": "stream",
     "text": [
      "{'#': 1, '(': 2, ')': 3, '+': 4, '-': 5, '/': 6, '1': 7, '2': 8, '3': 9, '4': 10, '5': 11, '6': 12, '7': 13, '8': 14, '=': 15, 'C': 16, 'F': 17, 'H': 18, 'I': 19, 'N': 20, 'O': 21, 'P': 22, 'S': 23, '[': 24, '\\\\': 25, ']': 26, '_': 27, 'c': 28, 'Cl': 29, 'Br': 30, 'n': 31, 'o': 32, 's': 33, '@': 34, '.': 35, 'a': 36, 'B': 37, 'e': 38, 'i': 39, '9': 40, '10': 41, '11': 42}\n"
     ]
    }
   ],
   "source": [
    "print(smiles_dict)"
   ]
  },
  {
   "cell_type": "markdown",
   "metadata": {},
   "source": [
    "# Carga de los datos"
   ]
  },
  {
   "cell_type": "code",
   "execution_count": 5,
   "metadata": {},
   "outputs": [],
   "source": [
    "df = pd.read_csv('data/acetylcholinesterase_02_bioactivity_data_preprocessed.csv')"
   ]
  },
  {
   "cell_type": "code",
   "execution_count": 6,
   "metadata": {},
   "outputs": [],
   "source": [
    "max_len_idx = df['canonical_smiles'].apply(len).argmax()\n",
    "min_len_idx = df['canonical_smiles'].apply(len).argmin()\n",
    "max_sequence_len = len(df['canonical_smiles'].iloc[max_len_idx]) + 20"
   ]
  },
  {
   "cell_type": "code",
   "execution_count": 7,
   "metadata": {},
   "outputs": [
    {
     "data": {
      "text/html": [
       "<div>\n",
       "<style scoped>\n",
       "    .dataframe tbody tr th:only-of-type {\n",
       "        vertical-align: middle;\n",
       "    }\n",
       "\n",
       "    .dataframe tbody tr th {\n",
       "        vertical-align: top;\n",
       "    }\n",
       "\n",
       "    .dataframe thead th {\n",
       "        text-align: right;\n",
       "    }\n",
       "</style>\n",
       "<table border=\"1\" class=\"dataframe\">\n",
       "  <thead>\n",
       "    <tr style=\"text-align: right;\">\n",
       "      <th></th>\n",
       "      <th>molecule_chembl_id</th>\n",
       "      <th>canonical_smiles</th>\n",
       "      <th>standard_value</th>\n",
       "      <th>standard_value_norm</th>\n",
       "      <th>pIC50</th>\n",
       "    </tr>\n",
       "  </thead>\n",
       "  <tbody>\n",
       "    <tr>\n",
       "      <th>0</th>\n",
       "      <td>CHEMBL133897</td>\n",
       "      <td>CCOc1nn(-c2cccc(OCc3ccccc3)c2)c(=O)o1</td>\n",
       "      <td>750.0</td>\n",
       "      <td>750.0</td>\n",
       "      <td>6.124939</td>\n",
       "    </tr>\n",
       "    <tr>\n",
       "      <th>1</th>\n",
       "      <td>CHEMBL336398</td>\n",
       "      <td>O=C(N1CCCCC1)n1nc(-c2ccc(Cl)cc2)nc1SCC1CC1</td>\n",
       "      <td>100.0</td>\n",
       "      <td>100.0</td>\n",
       "      <td>7.000000</td>\n",
       "    </tr>\n",
       "    <tr>\n",
       "      <th>2</th>\n",
       "      <td>CHEMBL131588</td>\n",
       "      <td>CN(C(=O)n1nc(-c2ccc(Cl)cc2)nc1SCC(F)(F)F)c1ccccc1</td>\n",
       "      <td>50000.0</td>\n",
       "      <td>50000.0</td>\n",
       "      <td>4.301030</td>\n",
       "    </tr>\n",
       "    <tr>\n",
       "      <th>3</th>\n",
       "      <td>CHEMBL130628</td>\n",
       "      <td>O=C(N1CCCCC1)n1nc(-c2ccc(Cl)cc2)nc1SCC(F)(F)F</td>\n",
       "      <td>300.0</td>\n",
       "      <td>300.0</td>\n",
       "      <td>6.522879</td>\n",
       "    </tr>\n",
       "    <tr>\n",
       "      <th>4</th>\n",
       "      <td>CHEMBL130478</td>\n",
       "      <td>CSc1nc(-c2ccc(OC(F)(F)F)cc2)nn1C(=O)N(C)C</td>\n",
       "      <td>800.0</td>\n",
       "      <td>800.0</td>\n",
       "      <td>6.096910</td>\n",
       "    </tr>\n",
       "  </tbody>\n",
       "</table>\n",
       "</div>"
      ],
      "text/plain": [
       "  molecule_chembl_id                                   canonical_smiles  \\\n",
       "0       CHEMBL133897              CCOc1nn(-c2cccc(OCc3ccccc3)c2)c(=O)o1   \n",
       "1       CHEMBL336398         O=C(N1CCCCC1)n1nc(-c2ccc(Cl)cc2)nc1SCC1CC1   \n",
       "2       CHEMBL131588  CN(C(=O)n1nc(-c2ccc(Cl)cc2)nc1SCC(F)(F)F)c1ccccc1   \n",
       "3       CHEMBL130628      O=C(N1CCCCC1)n1nc(-c2ccc(Cl)cc2)nc1SCC(F)(F)F   \n",
       "4       CHEMBL130478          CSc1nc(-c2ccc(OC(F)(F)F)cc2)nn1C(=O)N(C)C   \n",
       "\n",
       "   standard_value  standard_value_norm     pIC50  \n",
       "0           750.0                750.0  6.124939  \n",
       "1           100.0                100.0  7.000000  \n",
       "2         50000.0              50000.0  4.301030  \n",
       "3           300.0                300.0  6.522879  \n",
       "4           800.0                800.0  6.096910  "
      ]
     },
     "execution_count": 7,
     "metadata": {},
     "output_type": "execute_result"
    }
   ],
   "source": [
    "df.head()"
   ]
  },
  {
   "cell_type": "code",
   "execution_count": 8,
   "metadata": {},
   "outputs": [],
   "source": [
    "X = df['canonical_smiles'].values\n",
    "y = df['pIC50'].values"
   ]
  },
  {
   "cell_type": "markdown",
   "metadata": {},
   "source": [
    "# Data augmentation:\n",
    "\n",
    "https://arxiv.org/pdf/1703.07076.pdf\n",
    "\n",
    "https://github.com/EBjerrum/molvecgen\n",
    "\n",
    "https://github.com/Ebjerrum/SMILES-enumeration"
   ]
  },
  {
   "cell_type": "markdown",
   "metadata": {},
   "source": [
    "En la publicación de arriba se describe una técnica de aumentación de datos para los smiles. Leerla si es de su interes (Opcional)\n",
    "\n",
    "En el módulo **dataug.py**, tomando como referencia los repositorios arriba citados se implementó la aumentación de datos"
   ]
  },
  {
   "cell_type": "code",
   "execution_count": 9,
   "metadata": {},
   "outputs": [
    {
     "name": "stdout",
     "output_type": "stream",
     "text": [
      "c1ccc(-n2c(=O)oc(OCC)n2)cc1OCc1ccccc1\n",
      "C(Oc1cccc(-n2c(=O)oc(OCC)n2)c1)c1ccccc1\n",
      "c1(OCC)oc(=O)n(-c2cc(OCc3ccccc3)ccc2)n1\n",
      "CCOc1oc(=O)n(-c2cc(OCc3ccccc3)ccc2)n1\n",
      "c1cccc(COc2cc(-n3nc(OCC)oc3=O)ccc2)c1\n",
      "c1c(OCc2ccccc2)cccc1-n1c(=O)oc(OCC)n1\n",
      "c1(OCc2ccccc2)cc(-n2nc(OCC)oc2=O)ccc1\n",
      "c1cc(OCc2ccccc2)cc(-n2nc(OCC)oc2=O)c1\n",
      "c1c(-n2c(=O)oc(OCC)n2)cc(OCc2ccccc2)cc1\n",
      "O(Cc1ccccc1)c1cc(-n2c(=O)oc(OCC)n2)ccc1\n"
     ]
    }
   ],
   "source": [
    "from dataaug import SmilesEnumerator\n",
    "sme = SmilesEnumerator()\n",
    "for i in range(10):\n",
    "    print(sme.randomize_smiles('CCOc1nn(-c2cccc(OCc3ccccc3)c2)c(=O)o1'))\n",
    "    "
   ]
  },
  {
   "cell_type": "markdown",
   "metadata": {},
   "source": [
    "# DataGenerator"
   ]
  },
  {
   "cell_type": "markdown",
   "metadata": {},
   "source": [
    "Construir un generador al que se le pase al instanciarlo:\n",
    "- X: smiles (formula química)\n",
    "- y: pIC50\n",
    "- batch_size\n",
    "- max_sequence_len (int): La máxima longitud de las secuencias (para hacer el padding)\n",
    "- data_augmentation (boolean): si quiero hacer o no data-augmentation. \n",
    "- shuffle (boolean)\n",
    "\n",
    "Guardarlo en el módulo **datagen.py** con el nombre de la clase **DataGenerator**\n",
    "\n",
    "Notar que el módulo **datagen.py** ya tiene una estructura para completar"
   ]
  },
  {
   "cell_type": "markdown",
   "metadata": {},
   "source": [
    "### Importamos el módulo y lo probamos"
   ]
  },
  {
   "cell_type": "code",
   "execution_count": 10,
   "metadata": {},
   "outputs": [],
   "source": [
    "from datagen import DataGenerator"
   ]
  },
  {
   "cell_type": "code",
   "execution_count": 11,
   "metadata": {},
   "outputs": [],
   "source": [
    "dgen = DataGenerator(X, y, max_sequence_len, batch_size=16)"
   ]
  },
  {
   "cell_type": "code",
   "execution_count": 12,
   "metadata": {},
   "outputs": [
    {
     "data": {
      "text/plain": [
       "5104"
      ]
     },
     "execution_count": 12,
     "metadata": {},
     "output_type": "execute_result"
    }
   ],
   "source": [
    "len(dgen) * dgen.batch_size"
   ]
  },
  {
   "cell_type": "code",
   "execution_count": 13,
   "metadata": {},
   "outputs": [
    {
     "name": "stdout",
     "output_type": "stream",
     "text": [
      "318\r"
     ]
    }
   ],
   "source": [
    "for i, (X_b, y_b) in enumerate(dgen):\n",
    "    print(f'{i}\\r', end='')"
   ]
  },
  {
   "cell_type": "markdown",
   "metadata": {},
   "source": [
    "# Split"
   ]
  },
  {
   "cell_type": "code",
   "execution_count": 14,
   "metadata": {},
   "outputs": [],
   "source": [
    "from sklearn.model_selection import train_test_split"
   ]
  },
  {
   "cell_type": "code",
   "execution_count": 15,
   "metadata": {},
   "outputs": [],
   "source": [
    "X_train, X_test, y_train, y_test = train_test_split(X, y, test_size=0.2, random_state=42)"
   ]
  },
  {
   "cell_type": "code",
   "execution_count": 16,
   "metadata": {},
   "outputs": [
    {
     "data": {
      "text/plain": [
       "(4082, 4082, 1021)"
      ]
     },
     "execution_count": 16,
     "metadata": {},
     "output_type": "execute_result"
    }
   ],
   "source": [
    "len(X_train), len(y_train), len(X_test)"
   ]
  },
  {
   "cell_type": "code",
   "execution_count": 17,
   "metadata": {},
   "outputs": [
    {
     "data": {
      "text/plain": [
       "array(['COc1ccccc1C(=O)Nc1ccc2c(c1)CN(C(=O)c1cccc(Cl)c1)C(=O)C2',\n",
       "       'c1ccc2oc(CNCCCCCCCNc3c4c(nc5ccccc35)CCCC4)cc2c1',\n",
       "       'C=C1c2cc(Cl)ccc2N=C2CCCCCN12', ...,\n",
       "       'O=C(Cc1cc(=O)oc2cc(O)ccc12)N/N=C1\\\\SCC(=O)N1c1c2c(nc3ccccc13)CCCC2',\n",
       "       'O=C(NCCCCCc1ccccc1)Oc1ccc(-n2cc(COc3ccc4ccc(=O)oc4c3)nn2)cc1',\n",
       "       'CN(C)Cc1ccc(CSCCCCCCCCSCc2ccc(CN(C)C)o2)o1'], dtype=object)"
      ]
     },
     "execution_count": 17,
     "metadata": {},
     "output_type": "execute_result"
    }
   ],
   "source": [
    "X_train"
   ]
  },
  {
   "cell_type": "code",
   "execution_count": 18,
   "metadata": {},
   "outputs": [],
   "source": [
    "dgen_train = DataGenerator(X_train, y_train, seq_length=max_sequence_len, batch_size=128, data_augmentation=True)\n",
    "dgen_test = DataGenerator(X_test, y_test, seq_length=max_sequence_len, batch_size=128, data_augmentation=False)"
   ]
  },
  {
   "cell_type": "code",
   "execution_count": 19,
   "metadata": {},
   "outputs": [
    {
     "name": "stdout",
     "output_type": "stream",
     "text": [
      "7\r"
     ]
    }
   ],
   "source": [
    "for i, (X_b, y_b) in enumerate(dgen_test):\n",
    "    print(f'{i}\\r', end='')"
   ]
  },
  {
   "cell_type": "code",
   "execution_count": 20,
   "metadata": {},
   "outputs": [
    {
     "data": {
      "text/plain": [
       "(125, 227)"
      ]
     },
     "execution_count": 20,
     "metadata": {},
     "output_type": "execute_result"
    }
   ],
   "source": [
    "X_b.shape"
   ]
  },
  {
   "cell_type": "markdown",
   "metadata": {},
   "source": [
    "# Network Model"
   ]
  },
  {
   "cell_type": "code",
   "execution_count": 30,
   "metadata": {},
   "outputs": [],
   "source": [
    "from tensorflow.keras import Sequential\n",
    "from tensorflow.keras.layers import LSTM, Dense, Embedding, Bidirectional, Dropout, Activation, BatchNormalization, Conv1D, MaxPool1D, GlobalAveragePooling1D, Flatten\n",
    "from tensorflow.keras.callbacks import ModelCheckpoint, EarlyStopping, ReduceLROnPlateau\n",
    "from tensorflow.keras.optimizers import Adam, RMSprop\n",
    "from tensorflow.keras import backend as K\n",
    "import tensorflow as tf\n",
    "from tensorflow.keras import layers as L"
   ]
  },
  {
   "cell_type": "code",
   "execution_count": 31,
   "metadata": {},
   "outputs": [],
   "source": [
    "# Implementar modelo de TextCNN\n",
    "def text_cnn_1d(sequence_length, vocab_size, embedding_size, filter_sizes, num_filters):\n",
    "    # Recordar que estamos en la funcional model API y hay que entender que conectar con que.\n",
    "    input_x = L.Input(shape=(sequence_length,), name='input_x')\n",
    "    embedding = Embedding(input_dim = vocab_size + 1, output_dim = embedding_size)(input_x)\n",
    "    pooled_outputs = []\n",
    "    max_pool_div = 4\n",
    "    for filter_size in filter_sizes:\n",
    "        conv = Conv1D(num_filters, filter_size, padding='same', activation='relu')(embedding)\n",
    "        max_p = MaxPool1D((sequence_length - filter_size + 1)//max_pool_div)(conv)\n",
    "        pooled_outputs.append(max_p)\n",
    "    h_pool = L.Concatenate(axis=2)(pooled_outputs)\n",
    "    dense = L.Flatten()(h_pool)\n",
    "    dense = Dense(100, activation='relu')(dense)\n",
    "    dense = Dense(100, activation='relu')(dense)\n",
    "    dense = L.Dense(1)(dense) # Salida\n",
    "    model = tf.keras.models.Model(input_x, dense)\n",
    "    return model"
   ]
  },
  {
   "cell_type": "code",
   "execution_count": 32,
   "metadata": {},
   "outputs": [],
   "source": [
    "# Puede cambiar estos hiperparámtros. Son solo de referencia\n",
    "FILTER_SIZES = (3, 4, 4)\n",
    "NUM_FILTERS = 128\n",
    "vocab_size = len(smiles_dict)\n",
    "embeddings_size = 128 # 2"
   ]
  },
  {
   "cell_type": "code",
   "execution_count": 33,
   "metadata": {},
   "outputs": [
    {
     "name": "stdout",
     "output_type": "stream",
     "text": [
      "Model: \"model_1\"\n",
      "__________________________________________________________________________________________________\n",
      "Layer (type)                    Output Shape         Param #     Connected to                     \n",
      "==================================================================================================\n",
      "input_x (InputLayer)            [(None, 227)]        0                                            \n",
      "__________________________________________________________________________________________________\n",
      "embedding_1 (Embedding)         (None, 227, 128)     5504        input_x[0][0]                    \n",
      "__________________________________________________________________________________________________\n",
      "conv1d_3 (Conv1D)               (None, 227, 128)     49280       embedding_1[0][0]                \n",
      "__________________________________________________________________________________________________\n",
      "conv1d_4 (Conv1D)               (None, 227, 128)     65664       embedding_1[0][0]                \n",
      "__________________________________________________________________________________________________\n",
      "conv1d_5 (Conv1D)               (None, 227, 128)     65664       embedding_1[0][0]                \n",
      "__________________________________________________________________________________________________\n",
      "max_pooling1d_3 (MaxPooling1D)  (None, 4, 128)       0           conv1d_3[0][0]                   \n",
      "__________________________________________________________________________________________________\n",
      "max_pooling1d_4 (MaxPooling1D)  (None, 4, 128)       0           conv1d_4[0][0]                   \n",
      "__________________________________________________________________________________________________\n",
      "max_pooling1d_5 (MaxPooling1D)  (None, 4, 128)       0           conv1d_5[0][0]                   \n",
      "__________________________________________________________________________________________________\n",
      "concatenate_1 (Concatenate)     (None, 4, 384)       0           max_pooling1d_3[0][0]            \n",
      "                                                                 max_pooling1d_4[0][0]            \n",
      "                                                                 max_pooling1d_5[0][0]            \n",
      "__________________________________________________________________________________________________\n",
      "flatten_1 (Flatten)             (None, 1536)         0           concatenate_1[0][0]              \n",
      "__________________________________________________________________________________________________\n",
      "dense_3 (Dense)                 (None, 100)          153700      flatten_1[0][0]                  \n",
      "__________________________________________________________________________________________________\n",
      "dense_4 (Dense)                 (None, 100)          10100       dense_3[0][0]                    \n",
      "__________________________________________________________________________________________________\n",
      "dense_5 (Dense)                 (None, 1)            101         dense_4[0][0]                    \n",
      "==================================================================================================\n",
      "Total params: 350,013\n",
      "Trainable params: 350,013\n",
      "Non-trainable params: 0\n",
      "__________________________________________________________________________________________________\n"
     ]
    }
   ],
   "source": [
    "model = text_cnn_1d(max_sequence_len, vocab_size, embeddings_size, FILTER_SIZES, NUM_FILTERS)\n",
    "model.summary()"
   ]
  },
  {
   "cell_type": "code",
   "execution_count": 34,
   "metadata": {},
   "outputs": [],
   "source": [
    "def R2(y_true, y_pred):\n",
    "    SS_res =  K.sum(K.square( y_true-y_pred ))\n",
    "    SS_tot = K.sum(K.square( y_true - K.mean(y_true) ) )\n",
    "    return ( 1 - SS_res/(SS_tot + K.epsilon()) )"
   ]
  },
  {
   "cell_type": "code",
   "execution_count": 35,
   "metadata": {},
   "outputs": [],
   "source": [
    "def create_callbacks():\n",
    "    \n",
    "    early_stop = EarlyStopping(\n",
    "        monitor     = 'val_loss', \n",
    "        min_delta   = 0.01, \n",
    "        patience    = 25, \n",
    "        mode        = 'auto', \n",
    "        verbose     = 1\n",
    "    )\n",
    "    \n",
    "    reduce_on_plateau = ReduceLROnPlateau(\n",
    "        monitor  = 'val_loss',\n",
    "        factor   = 0.2,\n",
    "        patience = 5,\n",
    "        verbose  = 1,\n",
    "        mode     = 'min',\n",
    "        min_delta  = 0.01,\n",
    "        cooldown = 0,\n",
    "        min_lr   = 1e-8\n",
    "    )\n",
    "    checkpoint = ModelCheckpoint(\n",
    "        filepath        = 'models/best_model_cnn_{epoch}.h5', \n",
    "        monitor         = 'val_R2', \n",
    "        verbose         = 1, \n",
    "        save_best_only  = True, \n",
    "        mode            = 'max', \n",
    "        period          = 1\n",
    "    )\n",
    "\n",
    "    return [early_stop, reduce_on_plateau, checkpoint]"
   ]
  },
  {
   "cell_type": "code",
   "execution_count": 54,
   "metadata": {},
   "outputs": [],
   "source": [
    "model.compile(optimizer=Adam(learning_rate=1e-3), loss='mse', metrics=[R2])"
   ]
  },
  {
   "cell_type": "code",
   "execution_count": 37,
   "metadata": {},
   "outputs": [
    {
     "name": "stdout",
     "output_type": "stream",
     "text": [
      "WARNING:tensorflow:`period` argument is deprecated. Please use `save_freq` to specify the frequency in number of batches seen.\n"
     ]
    }
   ],
   "source": [
    "callbacks = create_callbacks()"
   ]
  },
  {
   "cell_type": "code",
   "execution_count": 55,
   "metadata": {
    "scrolled": true,
    "tags": []
   },
   "outputs": [
    {
     "name": "stdout",
     "output_type": "stream",
     "text": [
      "Epoch 1/100\n",
      "32/32 [==============================] - 7s 204ms/step - loss: 1.5939 - R2: 0.4041 - val_loss: 1.4498 - val_R2: 0.4969\n",
      "\n",
      "Epoch 00001: val_R2 did not improve from 0.52382\n",
      "Epoch 2/100\n",
      "32/32 [==============================] - 6s 198ms/step - loss: 1.1938 - R2: 0.5510 - val_loss: 1.4781 - val_R2: 0.4915\n",
      "\n",
      "Epoch 00002: val_R2 did not improve from 0.52382\n",
      "Epoch 3/100\n",
      "32/32 [==============================] - 7s 203ms/step - loss: 1.1809 - R2: 0.5630 - val_loss: 1.4583 - val_R2: 0.5012\n",
      "\n",
      "Epoch 00003: val_R2 did not improve from 0.52382\n",
      "Epoch 4/100\n",
      "32/32 [==============================] - 7s 208ms/step - loss: 1.2296 - R2: 0.5566 - val_loss: 1.4529 - val_R2: 0.4936\n",
      "\n",
      "Epoch 00004: val_R2 did not improve from 0.52382\n",
      "Epoch 5/100\n",
      "32/32 [==============================] - 7s 206ms/step - loss: 1.1782 - R2: 0.5904 - val_loss: 1.5533 - val_R2: 0.4520\n",
      "\n",
      "Epoch 00005: val_R2 did not improve from 0.52382\n",
      "Epoch 6/100\n",
      "32/32 [==============================] - 7s 211ms/step - loss: 1.1684 - R2: 0.5861 - val_loss: 1.3930 - val_R2: 0.5144\n",
      "\n",
      "Epoch 00006: val_R2 did not improve from 0.52382\n",
      "Epoch 7/100\n",
      "32/32 [==============================] - 7s 212ms/step - loss: 1.0399 - R2: 0.6152 - val_loss: 1.4523 - val_R2: 0.4807\n",
      "\n",
      "Epoch 00007: val_R2 did not improve from 0.52382\n",
      "Epoch 8/100\n",
      "32/32 [==============================] - 7s 206ms/step - loss: 1.2661 - R2: 0.5696 - val_loss: 1.5225 - val_R2: 0.4761\n",
      "\n",
      "Epoch 00008: val_R2 did not improve from 0.52382\n",
      "Epoch 9/100\n",
      "32/32 [==============================] - 7s 208ms/step - loss: 1.0034 - R2: 0.6213 - val_loss: 1.4083 - val_R2: 0.5173\n",
      "\n",
      "Epoch 00009: val_R2 did not improve from 0.52382\n",
      "Epoch 10/100\n",
      "32/32 [==============================] - 7s 214ms/step - loss: 1.0538 - R2: 0.6219 - val_loss: 1.4003 - val_R2: 0.5125\n",
      "\n",
      "Epoch 00010: val_R2 did not improve from 0.52382\n",
      "Epoch 11/100\n",
      "32/32 [==============================] - 7s 217ms/step - loss: 1.0580 - R2: 0.6125 - val_loss: 1.5219 - val_R2: 0.4533\n",
      "\n",
      "Epoch 00011: ReduceLROnPlateau reducing learning rate to 0.00020000000949949026.\n",
      "\n",
      "Epoch 00011: val_R2 did not improve from 0.52382\n",
      "Epoch 12/100\n",
      "32/32 [==============================] - 7s 215ms/step - loss: 1.0792 - R2: 0.6172 - val_loss: 1.3771 - val_R2: 0.5225\n",
      "\n",
      "Epoch 00012: val_R2 did not improve from 0.52382\n",
      "Epoch 13/100\n",
      "32/32 [==============================] - 7s 214ms/step - loss: 1.0490 - R2: 0.6286 - val_loss: 1.3784 - val_R2: 0.5084\n",
      "\n",
      "Epoch 00013: val_R2 did not improve from 0.52382\n",
      "Epoch 14/100\n",
      "32/32 [==============================] - 7s 213ms/step - loss: 0.9609 - R2: 0.6340 - val_loss: 1.3673 - val_R2: 0.5272\n",
      "\n",
      "Epoch 00014: val_R2 improved from 0.52382 to 0.52724, saving model to models\\best_model_cnn_14.h5\n",
      "Epoch 15/100\n",
      "32/32 [==============================] - 7s 222ms/step - loss: 1.0504 - R2: 0.6155 - val_loss: 1.4155 - val_R2: 0.5080\n",
      "\n",
      "Epoch 00015: val_R2 did not improve from 0.52724\n",
      "Epoch 16/100\n",
      "32/32 [==============================] - 7s 217ms/step - loss: 1.2052 - R2: 0.6051 - val_loss: 1.3536 - val_R2: 0.5291\n",
      "\n",
      "Epoch 00016: val_R2 improved from 0.52724 to 0.52910, saving model to models\\best_model_cnn_16.h5\n",
      "Epoch 17/100\n",
      "32/32 [==============================] - 7s 213ms/step - loss: 0.9960 - R2: 0.6223 - val_loss: 1.3465 - val_R2: 0.5393\n",
      "\n",
      "Epoch 00017: val_R2 improved from 0.52910 to 0.53925, saving model to models\\best_model_cnn_17.h5\n",
      "Epoch 18/100\n",
      "32/32 [==============================] - 7s 215ms/step - loss: 1.0280 - R2: 0.6183 - val_loss: 1.3390 - val_R2: 0.5418\n",
      "\n",
      "Epoch 00018: val_R2 improved from 0.53925 to 0.54182, saving model to models\\best_model_cnn_18.h5\n",
      "Epoch 19/100\n",
      "32/32 [==============================] - 7s 212ms/step - loss: 1.0700 - R2: 0.6346 - val_loss: 1.3719 - val_R2: 0.5145\n",
      "\n",
      "Epoch 00019: val_R2 did not improve from 0.54182\n",
      "Epoch 20/100\n",
      "32/32 [==============================] - 7s 217ms/step - loss: 0.9980 - R2: 0.6539 - val_loss: 1.3916 - val_R2: 0.5190\n",
      "\n",
      "Epoch 00020: val_R2 did not improve from 0.54182\n",
      "Epoch 21/100\n",
      "32/32 [==============================] - 7s 210ms/step - loss: 0.9266 - R2: 0.6714 - val_loss: 1.4132 - val_R2: 0.5080\n",
      "\n",
      "Epoch 00021: val_R2 did not improve from 0.54182\n",
      "Epoch 22/100\n",
      "32/32 [==============================] - 7s 213ms/step - loss: 1.0138 - R2: 0.6338 - val_loss: 1.3468 - val_R2: 0.5314\n",
      "\n",
      "Epoch 00022: val_R2 did not improve from 0.54182\n",
      "Epoch 23/100\n",
      "32/32 [==============================] - 7s 214ms/step - loss: 0.9687 - R2: 0.6440 - val_loss: 1.3352 - val_R2: 0.5389\n",
      "\n",
      "Epoch 00023: ReduceLROnPlateau reducing learning rate to 4.0000001899898055e-05.\n",
      "\n",
      "Epoch 00023: val_R2 did not improve from 0.54182\n",
      "Epoch 24/100\n",
      "32/32 [==============================] - 7s 212ms/step - loss: 1.0269 - R2: 0.6459 - val_loss: 1.3448 - val_R2: 0.5318\n",
      "\n",
      "Epoch 00024: val_R2 did not improve from 0.54182\n",
      "Epoch 25/100\n",
      "32/32 [==============================] - 7s 217ms/step - loss: 1.0686 - R2: 0.6435 - val_loss: 1.3344 - val_R2: 0.5395\n",
      "\n",
      "Epoch 00025: val_R2 did not improve from 0.54182\n",
      "Epoch 26/100\n",
      "32/32 [==============================] - 7s 217ms/step - loss: 0.9047 - R2: 0.6565 - val_loss: 1.3296 - val_R2: 0.5326\n",
      "\n",
      "Epoch 00026: val_R2 did not improve from 0.54182\n",
      "Epoch 27/100\n",
      "32/32 [==============================] - 7s 211ms/step - loss: 1.0217 - R2: 0.6478 - val_loss: 1.3370 - val_R2: 0.5377\n",
      "\n",
      "Epoch 00027: val_R2 did not improve from 0.54182\n",
      "Epoch 28/100\n",
      "32/32 [==============================] - 7s 214ms/step - loss: 0.9531 - R2: 0.6532 - val_loss: 1.3292 - val_R2: 0.5382\n",
      "\n",
      "Epoch 00028: ReduceLROnPlateau reducing learning rate to 8.000000525498762e-06.\n",
      "\n",
      "Epoch 00028: val_R2 did not improve from 0.54182\n",
      "Epoch 29/100\n",
      "32/32 [==============================] - 7s 214ms/step - loss: 0.9687 - R2: 0.6398 - val_loss: 1.3306 - val_R2: 0.5338\n",
      "\n",
      "Epoch 00029: val_R2 did not improve from 0.54182\n",
      "Epoch 30/100\n",
      "32/32 [==============================] - 7s 214ms/step - loss: 1.0181 - R2: 0.6505 - val_loss: 1.3286 - val_R2: 0.5422\n",
      "\n",
      "Epoch 00030: val_R2 improved from 0.54182 to 0.54222, saving model to models\\best_model_cnn_30.h5\n",
      "Epoch 31/100\n",
      "32/32 [==============================] - 7s 215ms/step - loss: 0.9641 - R2: 0.6699 - val_loss: 1.3309 - val_R2: 0.5272\n",
      "\n",
      "Epoch 00031: val_R2 did not improve from 0.54222\n",
      "Epoch 32/100\n",
      "32/32 [==============================] - 7s 213ms/step - loss: 0.9417 - R2: 0.6608 - val_loss: 1.3286 - val_R2: 0.5494\n",
      "\n",
      "Epoch 00032: val_R2 improved from 0.54222 to 0.54943, saving model to models\\best_model_cnn_32.h5\n",
      "Epoch 33/100\n",
      "32/32 [==============================] - 7s 214ms/step - loss: 1.1370 - R2: 0.6251 - val_loss: 1.3296 - val_R2: 0.5466\n",
      "\n",
      "Epoch 00033: val_R2 did not improve from 0.54943\n",
      "Epoch 34/100\n",
      "32/32 [==============================] - 7s 213ms/step - loss: 0.9894 - R2: 0.6486 - val_loss: 1.3285 - val_R2: 0.5327\n",
      "\n",
      "Epoch 00034: val_R2 did not improve from 0.54943\n",
      "Epoch 35/100\n",
      "32/32 [==============================] - 7s 215ms/step - loss: 0.9347 - R2: 0.6545 - val_loss: 1.3290 - val_R2: 0.5371\n",
      "\n",
      "Epoch 00035: ReduceLROnPlateau reducing learning rate to 1.6000001778593287e-06.\n",
      "\n",
      "Epoch 00035: val_R2 did not improve from 0.54943\n",
      "Epoch 36/100\n",
      "32/32 [==============================] - 7s 211ms/step - loss: 0.9213 - R2: 0.6487 - val_loss: 1.3285 - val_R2: 0.5442\n",
      "\n",
      "Epoch 00036: val_R2 did not improve from 0.54943\n",
      "Epoch 37/100\n",
      "32/32 [==============================] - 7s 215ms/step - loss: 1.0729 - R2: 0.6346 - val_loss: 1.3289 - val_R2: 0.5431\n",
      "\n",
      "Epoch 00037: val_R2 did not improve from 0.54943\n",
      "Epoch 38/100\n",
      "32/32 [==============================] - 7s 213ms/step - loss: 1.0243 - R2: 0.6480 - val_loss: 1.3286 - val_R2: 0.5184\n",
      "\n",
      "Epoch 00038: val_R2 did not improve from 0.54943\n",
      "Epoch 39/100\n",
      "32/32 [==============================] - 7s 214ms/step - loss: 0.8891 - R2: 0.6785 - val_loss: 1.3283 - val_R2: 0.5371\n",
      "\n",
      "Epoch 00039: val_R2 did not improve from 0.54943\n",
      "Epoch 40/100\n",
      "32/32 [==============================] - 7s 215ms/step - loss: 0.9599 - R2: 0.6648 - val_loss: 1.3282 - val_R2: 0.5384\n",
      "\n",
      "Epoch 00040: ReduceLROnPlateau reducing learning rate to 3.200000264769187e-07.\n",
      "\n",
      "Epoch 00040: val_R2 did not improve from 0.54943\n",
      "Epoch 41/100\n",
      "32/32 [==============================] - 7s 224ms/step - loss: 0.9014 - R2: 0.6614 - val_loss: 1.3282 - val_R2: 0.5303\n",
      "\n",
      "Epoch 00041: val_R2 did not improve from 0.54943\n",
      "Epoch 42/100\n",
      "32/32 [==============================] - 7s 215ms/step - loss: 1.0017 - R2: 0.6435 - val_loss: 1.3283 - val_R2: 0.5281\n",
      "\n",
      "Epoch 00042: val_R2 did not improve from 0.54943\n",
      "Epoch 43/100\n",
      "32/32 [==============================] - 7s 216ms/step - loss: 0.9505 - R2: 0.6652 - val_loss: 1.3283 - val_R2: 0.5366\n",
      "\n",
      "Epoch 00043: val_R2 did not improve from 0.54943\n",
      "Epoch 44/100\n",
      "32/32 [==============================] - 7s 227ms/step - loss: 0.9595 - R2: 0.6507 - val_loss: 1.3283 - val_R2: 0.5400\n",
      "\n",
      "Epoch 00044: val_R2 did not improve from 0.54943\n",
      "Epoch 45/100\n",
      "32/32 [==============================] - 7s 225ms/step - loss: 0.8898 - R2: 0.6720 - val_loss: 1.3283 - val_R2: 0.5203\n",
      "\n",
      "Epoch 00045: ReduceLROnPlateau reducing learning rate to 6.400000529538374e-08.\n",
      "\n",
      "Epoch 00045: val_R2 did not improve from 0.54943\n",
      "Epoch 46/100\n",
      "32/32 [==============================] - 7s 226ms/step - loss: 1.0654 - R2: 0.6461 - val_loss: 1.3283 - val_R2: 0.5406\n",
      "\n",
      "Epoch 00046: val_R2 did not improve from 0.54943\n",
      "Epoch 47/100\n",
      "32/32 [==============================] - 7s 222ms/step - loss: 0.9854 - R2: 0.6553 - val_loss: 1.3283 - val_R2: 0.5317\n",
      "\n",
      "Epoch 00047: val_R2 did not improve from 0.54943\n",
      "Epoch 48/100\n",
      "32/32 [==============================] - 7s 230ms/step - loss: 1.0449 - R2: 0.6323 - val_loss: 1.3283 - val_R2: 0.5319\n",
      "\n",
      "Epoch 00048: val_R2 did not improve from 0.54943\n",
      "Epoch 49/100\n",
      "32/32 [==============================] - 7s 230ms/step - loss: 0.9994 - R2: 0.6445 - val_loss: 1.3284 - val_R2: 0.5457\n",
      "\n",
      "Epoch 00049: val_R2 did not improve from 0.54943\n",
      "Epoch 50/100\n",
      "32/32 [==============================] - 8s 234ms/step - loss: 0.9529 - R2: 0.6630 - val_loss: 1.3284 - val_R2: 0.5426\n",
      "\n",
      "Epoch 00050: ReduceLROnPlateau reducing learning rate to 1.2800001059076749e-08.\n",
      "\n",
      "Epoch 00050: val_R2 did not improve from 0.54943\n",
      "Epoch 51/100\n",
      "32/32 [==============================] - 7s 229ms/step - loss: 1.0408 - R2: 0.6387 - val_loss: 1.3284 - val_R2: 0.5344\n",
      "\n",
      "Epoch 00051: val_R2 did not improve from 0.54943\n",
      "Epoch 52/100\n",
      "32/32 [==============================] - 7s 224ms/step - loss: 0.8960 - R2: 0.6646 - val_loss: 1.3284 - val_R2: 0.5390\n",
      "\n",
      "Epoch 00052: val_R2 did not improve from 0.54943\n",
      "Epoch 53/100\n",
      "32/32 [==============================] - 7s 222ms/step - loss: 0.9061 - R2: 0.6744 - val_loss: 1.3284 - val_R2: 0.5423\n",
      "\n",
      "Epoch 00053: val_R2 did not improve from 0.54943\n",
      "Epoch 54/100\n",
      "32/32 [==============================] - 7s 213ms/step - loss: 0.8851 - R2: 0.6566 - val_loss: 1.3284 - val_R2: 0.5359\n",
      "\n",
      "Epoch 00054: val_R2 did not improve from 0.54943\n",
      "Epoch 55/100\n",
      "32/32 [==============================] - 7s 214ms/step - loss: 0.8931 - R2: 0.6727 - val_loss: 1.3284 - val_R2: 0.5463\n",
      "\n",
      "Epoch 00055: ReduceLROnPlateau reducing learning rate to 1e-08.\n",
      "\n",
      "Epoch 00055: val_R2 did not improve from 0.54943\n",
      "Epoch 00055: early stopping\n"
     ]
    }
   ],
   "source": [
    "history = model.fit(dgen_train, epochs=100, validation_data=dgen_test, callbacks=callbacks)"
   ]
  },
  {
   "cell_type": "code",
   "execution_count": 56,
   "metadata": {},
   "outputs": [],
   "source": [
    "X_test_eval = []\n",
    "y_t_eval = []\n",
    "for X_t, y_t in dgen_test:\n",
    "    X_test_eval = X_test_eval + [list(t) for t in X_t]\n",
    "    y_t_eval = y_t_eval + list(y_t)\n",
    "X_test_eval = np.array(X_test_eval)\n",
    "y_test = np.array(y_t_eval)"
   ]
  },
  {
   "cell_type": "code",
   "execution_count": 57,
   "metadata": {},
   "outputs": [
    {
     "data": {
      "text/plain": [
       "((1021, 227), (1021,))"
      ]
     },
     "execution_count": 57,
     "metadata": {},
     "output_type": "execute_result"
    }
   ],
   "source": [
    "X_test_eval.shape, y_test.shape"
   ]
  },
  {
   "cell_type": "code",
   "execution_count": 58,
   "metadata": {},
   "outputs": [],
   "source": [
    "y_pred = model.predict(X_test_eval)"
   ]
  },
  {
   "cell_type": "markdown",
   "metadata": {},
   "source": [
    "# Score"
   ]
  },
  {
   "cell_type": "code",
   "execution_count": 59,
   "metadata": {},
   "outputs": [],
   "source": [
    "r2 = 1 - ((y_test - y_pred.reshape(-1)) ** 2).sum() / ((y_test - y_test.mean()) ** 2).sum()"
   ]
  },
  {
   "cell_type": "code",
   "execution_count": 60,
   "metadata": {},
   "outputs": [
    {
     "data": {
      "text/plain": [
       "0.5397967110728568"
      ]
     },
     "execution_count": 60,
     "metadata": {},
     "output_type": "execute_result"
    }
   ],
   "source": [
    "r2\n"
   ]
  },
  {
   "cell_type": "code",
   "execution_count": 64,
   "metadata": {},
   "outputs": [],
   "source": [
    "filename = 'models/embed_128_text_cnn_aug_100x100_0.0001.h5'\n",
    "model.save(filename)"
   ]
  },
  {
   "cell_type": "markdown",
   "metadata": {},
   "source": [
    "# Load model (solo si se grabo el modelo)"
   ]
  },
  {
   "cell_type": "code",
   "execution_count": 45,
   "metadata": {},
   "outputs": [],
   "source": [
    "from tensorflow.keras.models import load_model"
   ]
  },
  {
   "cell_type": "code",
   "execution_count": 65,
   "metadata": {},
   "outputs": [],
   "source": [
    "model_loaded = load_model(filename, custom_objects={'R2': R2})"
   ]
  },
  {
   "cell_type": "code",
   "execution_count": 66,
   "metadata": {},
   "outputs": [],
   "source": [
    "y_pred = model_loaded.predict(X_test_eval)"
   ]
  },
  {
   "cell_type": "code",
   "execution_count": 67,
   "metadata": {},
   "outputs": [
    {
     "data": {
      "text/plain": [
       "0.5397967110728568"
      ]
     },
     "execution_count": 67,
     "metadata": {},
     "output_type": "execute_result"
    }
   ],
   "source": [
    "r2 = 1 - ((y_test - y_pred.reshape(-1)) ** 2).sum() / ((y_test - y_test.mean()) ** 2).sum()\n",
    "r2"
   ]
  },
  {
   "cell_type": "markdown",
   "metadata": {},
   "source": [
    "# Evaluación"
   ]
  },
  {
   "cell_type": "code",
   "execution_count": 68,
   "metadata": {},
   "outputs": [
    {
     "data": {
      "text/plain": [
       "<function matplotlib.pyplot.show(close=None, block=None)>"
      ]
     },
     "execution_count": 68,
     "metadata": {},
     "output_type": "execute_result"
    },
    {
     "data": {
      "image/png": "[encoded data removed]",
      "text/plain": [
       "<Figure size 360x360 with 1 Axes>"
      ]
     },
     "metadata": {},
     "output_type": "display_data"
    }
   ],
   "source": [
    "import seaborn as sns\n",
    "import matplotlib.pyplot as plt\n",
    "\n",
    "sns.set(color_codes=True)\n",
    "sns.set_style(\"white\")\n",
    "\n",
    "ax = sns.regplot(x=y_test, y=y_pred, scatter_kws={'alpha':0.4})\n",
    "ax.set_xlabel('Experimental pIC50', fontsize='large', fontweight='bold')\n",
    "ax.set_ylabel('Predicted pIC50', fontsize='large', fontweight='bold')\n",
    "ax.set_xlim(0, 12)\n",
    "ax.set_ylim(0, 12)\n",
    "ax.figure.set_size_inches(5, 5)\n",
    "plt.show"
   ]
  },
  {
   "cell_type": "code",
   "execution_count": null,
   "metadata": {},
   "outputs": [],
   "source": []
  }
 ],
 "metadata": {
  "kernelspec": {
   "display_name": "DL",
   "language": "python",
   "name": "dl"
  },
  "language_info": {
   "codemirror_mode": {
    "name": "ipython",
    "version": 3
   },
   "file_extension": ".py",
   "mimetype": "text/x-python",
   "name": "python",
   "nbconvert_exporter": "python",
   "pygments_lexer": "ipython3",
   "version": "3.7.9"
  }
 },
 "nbformat": 4,
 "nbformat_minor": 5
}
